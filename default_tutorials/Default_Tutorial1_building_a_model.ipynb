{
 "cells": [
  {
   "cell_type": "markdown",
   "id": "7f4e43e7",
   "metadata": {},
   "source": [
    "## PyBEAM Tutorial 1: Building a model using PyBEAM's default sub-module.\n",
    "\n",
    "In this tutorial we introduce how to build a model using PyBEAM's default sub-module. It contains pre-coded model features which can be combined together to fit many modeling needs. \n",
    "\n",
    "If you have not done so already, install pybeam. To do this, follow the direction listed on the PyBEAM github.\n",
    "\n",
    "Once you have done this, import PyBEAM's default sub-module.\n"
   ]
  },
  {
   "cell_type": "code",
   "execution_count": null,
   "id": "13c1fe4f",
   "metadata": {},
   "outputs": [],
   "source": [
    "# import PyBEAM's default module\n",
    "import pybeam.default as pbd\n"
   ]
  },
  {
   "cell_type": "markdown",
   "id": "a04efc9b",
   "metadata": {},
   "source": [
    "We now introduce how to build a default model in PyBEAM. This is done by creating a dictionary which contains all relevant model information. Currently, two model types are available in PyBEAM by default: 'base' and 'ugm' (as described in PyBEAM's publication). In the next cell, we show how to build a base model.\n"
   ]
  },
  {
   "cell_type": "code",
   "execution_count": null,
   "id": "f58149fe",
   "metadata": {},
   "outputs": [],
   "source": [
    "# define base model\n",
    "model = {'type' : 'base',  # model type ('base' or 'ugm')\n",
    "        'sigma' : 1.0,     # sets sigma, the scaling parameter\n",
    "    'threshold' : 'fixed', # sets threshold type (fixed, linear, exponential, or weibull)\n",
    "      'leakage' : False,   # if True, drift rate has leaky integration\n",
    "        'delay' : False,   # if True, decision threshold motion is delayed\n",
    "'contamination' : False}   # if True, uniform contamination added to model\n"
   ]
  },
  {
   "cell_type": "markdown",
   "id": "690614eb",
   "metadata": {},
   "source": [
    "The above cell contains all information required to build a 'base' model. The first dictionary key sets the model 'type', in this case 'base'. When 'base' is chosen, four parameters are automatically added to the model:\n",
    "\n",
    "    t_nd: non-decision time\n",
    "       w: relative start point\n",
    "      mu: drift rate\n",
    "       a: decision threshold location (t = 0)\n",
    "       \n",
    "The second key, 'sigma', is the model's scaling parameter. This is normally set to either 1.0 or 0.1 (set to 1.0 in the above dictionary). \n",
    "\n",
    "The third key is 'threshold', and indicates if you want moving threhsolds in your model. This key can have four values: 'fixed', 'linear', 'exponential', and 'weibull'. If 'fixed', the model has no additional parameters, with the thresholds equaling\n",
    "\n",
    "    upper threshold = -lower threshold = a\n",
    "    \n",
    "If threshold has value 'linear', an additional slope parameter is added to the model. This makes the thresholds\n",
    "\n",
    "    upper threshold = -lower threshold = a - mt\n",
    "    \n",
    "where 'm' is the threshold slope and 't' is time. Parameter 'a' has the same meaning as above. If threshold has value 'exponential', the thresholds become\n",
    "\n",
    "    upper threhsold = -lower threshold = a*exp(-t/tau)\n",
    "    \n",
    "where 'tau' is the threshold collapse parameter. The last value, 'weibull', makes the thresholds a weibull distribution, giving\n",
    "\n",
    "    upper threshold = -lower threshold = a - 0.5*a*(1.0 - c)*(1.0 - exp(-(t/lamb)**kappa)) \n",
    "    \n",
    "where 'lamb' is the scale parameter, 'kappa' is the shape parameter, and 'c' is the collpase parameter. 'lamb' approximately sets the time at which collapse occurs. 'kappa' indicates if the motion is exponential (k < 1) or logistic (k > 1) in behavior. 'c' is the collapse parameter, and indicates if the threshold collapse or expands. If c = -1, the threhsold collapses to zero; if c = 1, the threshold is fixed; and if c > 1, the threshold expands past its original location of a.\n",
    "\n",
    "The fourth key, 'leakage', indicates whether or not leaky integration is in the model. This modifies the drift rate from a constant to\n",
    "\n",
    "    drift = mu - lx\n",
    "    \n",
    "where 'mu' is the 'base' model drift rate, 'l' is the leakage rate, and 'x' is the accumulator state. If True, leakage is added, while if if False, it is excluded.\n",
    "\n",
    "The next key, 'delay', allows threshold motion to be be delayed in the case of moving thresholds. For example, let's say you have an exponential decision threshold, but you don't want it to collapse until later in the decision process. If 'delay' is True, an additional model parameter 'd' is added, which sets the time at which threshold motion begins. For example, if 'threshold' is 'exponential' and 'delay' is True, the threshold becomes\n",
    "\n",
    "    if (t < d):\n",
    "        upper threshold = -lower threhsold = a\n",
    "    else:\n",
    "        upper threshold = -lower threhsold = a*exp((t-d)/tau)\n",
    "\n",
    "The last key, 'contamination', allows the addition of a uniform contamination process to your model. If True, a uniform distribution contamination is added with three parameters: 'g', 'gl', and 'gu'. The first, 'g', sets the strength of the contamination process. If g = 0, not contamination is in the model, while if g = 1, the model is only the uniform contamination process. Parameters 'gl' and 'gu' set the lower and upper thresholds, respectively, for the contamination process.\n",
    "\n",
    "In the next cell, we show how to build a model of 'type : ugm'. \n"
   ]
  },
  {
   "cell_type": "code",
   "execution_count": null,
   "id": "99e2c7c1",
   "metadata": {},
   "outputs": [],
   "source": [
    "# define urgency gating model ('ugm')\n",
    "model = {'type' : 'ugm', # model type ('base' or 'ugm')\n",
    "        'sigma' : 1.0,   # sets sigma, the scaling parameter\n",
    "'contamination' : False} # if True, uniform contamination added to model\n"
   ]
  },
  {
   "cell_type": "markdown",
   "id": "40dcd86e",
   "metadata": {},
   "source": [
    "When a 'type : ugm' is chosen, and urgency gating model is build. Six parameters are automatcially added to the model\n",
    "\n",
    "    t_nd: non-decision time\n",
    "       w: relative start point\n",
    "      mu: drift rate\n",
    "       l: leakage rate\n",
    "       k: ugrency rate\n",
    "       a: decision threshold location (t = 0)\n",
    "       \n",
    "Parameters 't_nd', 'w', 'mu', and 'a' have the same meaning as the base model. 'l', the leakage rate, is the same as the lekage rate option for the base model. 'k', the urgency, is unique to the ugm.\n",
    "\n",
    "The parameters 'l' and 'k' are incorporated into the drift rate of the model, giving\n",
    "\n",
    "    drift = mu(1 + kt) + (k(1+k) - l)x\n",
    "    \n",
    "Model keys 'sigma' and contamination are the same as for the base model structure.\n"
   ]
  },
  {
   "cell_type": "code",
   "execution_count": null,
   "id": "27db6f6e",
   "metadata": {},
   "outputs": [],
   "source": []
  }
 ],
 "metadata": {
  "kernelspec": {
   "display_name": "Python 3",
   "language": "python",
   "name": "python3"
  },
  "language_info": {
   "codemirror_mode": {
    "name": "ipython",
    "version": 3
   },
   "file_extension": ".py",
   "mimetype": "text/x-python",
   "name": "python",
   "nbconvert_exporter": "python",
   "pygments_lexer": "ipython3",
   "version": "3.8.8"
  }
 },
 "nbformat": 4,
 "nbformat_minor": 5
}
