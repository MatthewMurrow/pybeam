{
 "cells": [
  {
   "cell_type": "markdown",
   "id": "e5a740a7",
   "metadata": {},
   "source": [
    "# Using your model\n",
    "    "
   ]
  },
  {
   "cell_type": "markdown",
   "id": "c591f399",
   "metadata": {},
   "source": [
    "In this notebook, we discuss how to use the model structure discussed in Tutorial 1, \"Choosing your model\". If you have not done so already, go to the \"Choosing your model\" notebook to learn about how to build a model.\n",
    "\n",
    "Once you have done this, import PyBEAM's pre-coded sub-module.\n"
   ]
  },
  {
   "cell_type": "code",
   "execution_count": 1,
   "id": "0a8bf419",
   "metadata": {},
   "outputs": [],
   "source": [
    "# import PyBEAM's default module\n",
    "import pybeam.precoded as pbp\n"
   ]
  },
  {
   "cell_type": "markdown",
   "id": "163c7dab",
   "metadata": {},
   "source": [
    "We will first create the 'simpleDDM' model discussed in \"Choosing your model\" with no additional features.\n"
   ]
  },
  {
   "cell_type": "code",
   "execution_count": 2,
   "id": "b480a65f",
   "metadata": {},
   "outputs": [],
   "source": [
    "# call simpleDDM model\n",
    "model = pbp.simpleDDM()\n"
   ]
  },
  {
   "cell_type": "markdown",
   "id": "276bb4c0",
   "metadata": {},
   "source": [
    "After specifying the model, you can determine what parameters your model needs. You do so by examining the parameters attribute of your called model class. These parameters are the input values for future functions.\n"
   ]
  },
  {
   "cell_type": "code",
   "execution_count": 3,
   "id": "f83f69b9",
   "metadata": {},
   "outputs": [
    {
     "data": {
      "text/plain": [
       "['tnd', 'w', 'mu', 'b']"
      ]
     },
     "execution_count": 3,
     "metadata": {},
     "output_type": "execute_result"
    }
   ],
   "source": [
    "model.parameters()\n"
   ]
  },
  {
   "cell_type": "markdown",
   "id": "8dc95c3c",
   "metadata": {},
   "source": [
    "Now that we have defined our model and checked that is uses the parameters we desire, we now introduce functions PyBEAM implements that you can use to test your model.\n",
    "\n",
    "The first is simulate, a function which simulates data from your model. This requires at least three inputs: N_sims, model, and phi. The first, N_sims, sets how many data points are generated. The second, model, requires the model class defined above.\n",
    "\n",
    "The last, phi, is a dictionary containing the parameters (as keys) and their values (as the key's values). Per the parameters attribute, this dictionary requires four keys: 't_nd', 'w', 'mu', and 'b'. The values corresponding to these keys are the parameter's values.\n",
    "\n",
    "Two optional inputs are also available for this funtion. The first, seed, allows you to set a random generator seed so that you can reproduce your data set. The second, dt, allows for modification of the simulation function's time step (by default, dt = 0.0001).\n",
    "\n",
    "This functions outputs a dictionary containing two keys: 'rt_upper' and 'rt_lower'. These correspond to the simulated reaction time data sets for the upper and lower decision thresholds, respectively.\n"
   ]
  },
  {
   "cell_type": "code",
   "execution_count": 30,
   "id": "4a55be95",
   "metadata": {},
   "outputs": [
    {
     "data": {
      "text/plain": [
       "{'rt_upper': array([1.4563, 0.9354, 0.44  , 0.7489, 0.7687, 0.4504, 0.4781, 0.3966,\n",
       "        0.8795, 0.5567, 0.5331, 0.4265, 0.6217, 0.3299, 0.3529, 0.8817,\n",
       "        1.4517, 0.4827, 0.4905, 1.1297, 0.8588, 0.4076, 0.3485, 0.6341,\n",
       "        0.5732, 0.5501, 1.227 , 1.2519, 0.5713, 0.3279, 0.5232, 0.4942,\n",
       "        1.9596, 0.4458, 0.3627, 0.5699, 0.4864, 0.7429, 1.2721, 0.635 ,\n",
       "        0.77  , 0.7986, 0.5278, 0.5467, 0.8783, 0.6447, 0.4313, 0.5846,\n",
       "        1.2013, 0.3825, 0.9944, 0.4396, 0.4441, 0.6286, 1.2006, 0.4946,\n",
       "        0.5632, 0.5449, 1.0007, 1.6269, 0.4773, 0.5285, 0.4559, 0.5573,\n",
       "        0.6825, 0.9237, 0.4113, 0.5509, 0.5539, 0.416 , 0.732 , 1.0841,\n",
       "        0.8167, 0.5564, 0.4255, 0.7579, 0.9068, 0.388 , 0.5924, 0.3394,\n",
       "        0.5624, 0.4667, 0.4882, 0.4731, 0.5829, 0.3424, 0.5715, 0.4009,\n",
       "        0.3284, 0.852 , 0.6211, 0.4547, 1.1479, 0.7719, 0.4657, 1.0896,\n",
       "        0.812 , 0.3982, 0.9698, 0.6163, 0.629 , 0.6298, 0.6063, 0.6857,\n",
       "        0.9806, 0.4182, 0.3167, 2.4599, 0.7639, 1.2455, 1.2705, 1.0544,\n",
       "        0.5613, 0.7171, 0.5932, 0.9918, 0.801 , 0.5057, 0.3228, 1.692 ,\n",
       "        0.3645, 0.4742, 0.6454, 0.4713, 0.755 , 1.1012, 0.7845, 0.6122,\n",
       "        0.535 , 1.0803, 0.6147, 0.3495, 0.8143, 0.9006, 0.4798, 0.4644,\n",
       "        0.4429, 0.5499, 0.6923, 0.4841, 0.3002, 0.6613, 0.3596, 1.0822,\n",
       "        1.1358, 0.3932, 0.9392, 0.4038, 0.6147, 0.5047, 1.094 , 0.5165,\n",
       "        0.5923, 0.6401, 0.4819, 0.63  , 0.7736, 0.4964, 0.6705, 0.6313,\n",
       "        0.6688, 0.9035, 2.7617, 1.5518, 0.3763, 0.3913, 0.5746, 1.1624,\n",
       "        0.4721, 0.3583, 0.4733, 0.8783, 0.971 , 0.9912, 0.5564, 0.6416,\n",
       "        0.7293, 0.6663, 0.7703, 0.8834, 1.4616, 0.3352, 0.3308, 1.0725,\n",
       "        0.7409, 0.7166, 0.467 , 0.7563, 1.1038, 1.034 , 0.3639, 1.0853,\n",
       "        1.0946, 0.4209, 0.5607, 0.432 , 0.4858, 0.4722, 0.821 , 0.9364,\n",
       "        0.675 , 1.1586, 0.4593, 0.4888, 0.3497, 0.8156, 0.7542, 0.498 ,\n",
       "        1.6018, 0.5325, 1.2145, 0.4949, 0.5718, 0.7625, 0.428 , 0.3966,\n",
       "        0.3066, 1.1297, 0.6803, 0.5379, 0.44  , 0.6111, 0.5052, 1.0946,\n",
       "        0.8766, 0.738 , 0.4935, 0.7218, 0.887 , 0.8408, 0.6348, 1.0037,\n",
       "        1.1462, 0.501 , 0.6637, 0.4477, 1.1274, 0.6558, 0.4394, 0.3184,\n",
       "        0.6927, 1.53  , 0.6424, 0.9019, 0.6756, 1.0366, 0.6006, 0.4269,\n",
       "        1.4123, 0.4407, 0.7767, 1.5536, 1.3372, 0.5007, 0.8494, 0.3152,\n",
       "        0.9672, 0.4999, 1.2512, 0.5027, 0.5598, 0.371 , 0.4471, 0.5008,\n",
       "        0.7562, 0.5511, 0.7078, 0.3915, 1.7604, 1.5929, 1.7008, 0.8307,\n",
       "        0.9965, 0.7804, 0.5345, 0.4089, 1.2807, 0.9243, 0.8082, 0.371 ,\n",
       "        1.6662, 0.3997, 0.7073, 0.7565, 0.6415, 1.0217, 0.3383, 0.8866,\n",
       "        0.5425, 0.4817, 2.1208, 0.3577, 0.3992, 0.4709, 0.6475, 0.9402,\n",
       "        0.6165, 0.4191, 0.7307, 0.7313, 0.7869, 0.4488, 0.4972, 1.0891,\n",
       "        0.5102, 0.4991, 0.3801, 1.1993, 1.3932, 0.6054, 0.5103, 0.7986,\n",
       "        0.8124, 1.1248, 0.6783, 0.5855, 0.9618, 1.2639, 0.571 , 0.6716,\n",
       "        0.9124, 0.8231, 1.4232, 1.9517, 0.3553, 0.8793, 0.4783, 0.4376,\n",
       "        0.4866, 0.3851, 0.9399, 0.5587, 0.3629, 0.4745, 0.6749, 0.5763,\n",
       "        1.2103, 1.7236, 0.8094, 0.4422, 0.4661, 0.5451, 0.9699, 0.7155,\n",
       "        0.6003, 0.4444, 0.5994, 0.4995, 0.6261, 0.5396, 0.8603, 0.3847,\n",
       "        0.8161, 0.835 , 1.1289, 0.5087, 0.2995, 1.1224, 1.7686, 0.6951,\n",
       "        0.5149, 0.6264, 1.7516, 0.5508, 0.7066, 0.3311, 0.4492, 0.9273,\n",
       "        1.9614, 1.2453, 0.4427, 0.9513, 0.9172, 1.2584, 0.5154, 1.3402,\n",
       "        0.8391, 1.4032, 1.5102, 0.3717, 0.8918, 0.4482, 0.7714, 0.4617,\n",
       "        0.9224, 0.549 , 1.0271, 0.4776, 0.5673, 0.5092, 0.462 , 0.4762,\n",
       "        0.6106, 1.4035, 0.4622, 0.3464, 0.7673, 1.001 , 0.5349, 0.5075,\n",
       "        0.7726, 0.6739, 0.3892, 0.3842, 0.7416, 0.3496, 1.0324, 0.773 ,\n",
       "        0.7742, 0.7709, 0.7056, 0.5519, 1.0281, 0.9224, 0.3124, 0.9499,\n",
       "        0.321 , 0.4164, 0.8323, 0.3977, 0.8095, 0.9127, 0.5794, 0.5095,\n",
       "        1.0837, 0.7273, 2.2007, 0.5047, 0.4453, 0.7765, 0.7114, 0.8498,\n",
       "        0.4309, 0.8014, 0.6102, 0.7099, 0.4189, 0.9429, 0.4585, 0.7508,\n",
       "        0.8049, 0.6343, 0.773 , 0.4069, 0.5   , 0.9167, 1.4836, 0.864 ,\n",
       "        0.7874, 0.6246, 0.7467, 0.4889, 0.9009, 0.8685, 0.6524, 0.468 ,\n",
       "        0.3981, 0.3583, 0.4536, 0.4873, 0.5097, 0.9324, 1.3821, 0.5899,\n",
       "        2.0763, 0.3401, 0.5942, 0.5366, 0.8349, 0.4862, 0.6587, 0.4162,\n",
       "        0.3762, 1.0279, 0.6076, 0.3875, 0.5775, 0.7103, 0.8161, 0.682 ,\n",
       "        1.1608, 0.3628, 0.4937, 0.8078, 0.3391, 0.4289, 1.5567, 0.333 ,\n",
       "        0.4755, 0.3785, 0.6666, 0.5314, 0.6153, 0.4303, 0.5677, 0.6187,\n",
       "        1.1985, 0.4363, 0.6255, 0.3445, 0.6187, 0.5602, 0.3669, 0.6392,\n",
       "        0.3623, 0.4159, 1.1655, 0.3791, 0.594 , 0.6305, 0.9843, 0.4502,\n",
       "        0.5888, 0.5489, 1.0059, 0.9644, 0.6317, 0.4175, 0.6334, 0.4469,\n",
       "        0.4497, 0.5493, 0.4625, 0.4009, 0.6278, 0.4723, 0.7913, 0.9985,\n",
       "        1.9619, 1.0894, 0.5904, 0.8089, 0.7308, 0.3365, 0.4796, 0.9053,\n",
       "        0.4235, 0.4003, 0.7596, 0.4662, 0.4701, 0.4234, 0.4045, 0.5914,\n",
       "        0.3897, 0.9957, 1.312 , 0.3878, 1.5376, 0.7451, 0.8042, 0.4402,\n",
       "        0.3397, 2.3309, 0.6494, 0.3271, 0.3713, 0.3974, 1.6241, 1.2298,\n",
       "        1.1432, 0.6322, 0.4927, 0.9415, 0.8619, 0.4205, 0.3784, 1.2718,\n",
       "        0.6924, 0.5088, 1.0836, 0.5803, 0.4397, 0.4184, 0.3803, 0.9055,\n",
       "        0.5738, 0.3896, 0.4888, 1.2389, 0.7046, 0.737 , 0.7429, 0.4319,\n",
       "        0.7831, 2.3204, 0.4937, 0.3368, 0.4834, 0.6875, 0.6392, 0.4065,\n",
       "        0.5847, 1.6923, 0.5837, 1.2874, 1.279 , 0.4722, 0.5138, 0.7983,\n",
       "        1.1246, 0.6623, 0.5788, 0.3983, 0.6447, 0.3456, 0.8923, 0.4576,\n",
       "        0.4982, 0.4059, 0.4323, 0.6767, 1.0503, 0.8066, 0.8402, 0.5614,\n",
       "        0.8724, 0.407 , 1.8689, 0.6369, 0.4576, 0.6177, 1.0408, 0.6145,\n",
       "        0.4661, 0.5009, 0.6874, 0.5525, 0.7806, 0.4772, 0.4775, 0.3757,\n",
       "        0.4248, 0.4287, 0.421 , 0.7323, 2.1182, 0.4509, 0.5222, 0.5979,\n",
       "        1.8149, 0.3399, 0.5183, 1.0538, 0.5654, 0.9599, 1.1935, 0.8082,\n",
       "        0.5317, 0.6932, 0.8853, 0.3522, 0.7257, 0.8935, 0.5025, 0.4978,\n",
       "        0.7743, 0.8113, 0.5164, 0.4835, 0.4657, 1.1247, 2.2981, 0.5133,\n",
       "        1.3389, 0.4741, 3.0754, 0.4056, 0.4274, 0.5859, 0.4198, 0.407 ,\n",
       "        0.8268, 0.5566, 0.5183, 0.4075, 0.3228, 0.7105, 0.8271, 0.6613,\n",
       "        0.5201, 0.3398, 0.3896, 0.6571, 0.4805, 0.7213, 0.9793, 0.7613,\n",
       "        0.3858, 0.7211, 0.5726, 0.3681, 1.2958, 0.5684, 0.7924, 0.77  ,\n",
       "        1.1982, 1.0411, 1.1982, 0.6172, 2.5711, 0.3969, 0.6145, 0.547 ,\n",
       "        0.2905, 1.091 , 0.8712, 1.5911, 0.708 , 0.7642, 1.5457, 0.7135,\n",
       "        0.5424, 0.408 , 0.5655, 0.367 , 0.5552, 0.6627, 0.8469, 0.9471,\n",
       "        1.0693, 1.0627, 0.5301, 0.7849, 0.3299, 0.3848, 1.6557, 0.5172,\n",
       "        0.9927, 0.4287, 0.9173, 0.4851, 0.4439, 1.5408, 0.6229, 1.7441,\n",
       "        0.6098, 0.6296, 0.8627, 0.637 , 0.4073, 0.4724, 0.6236, 1.0124,\n",
       "        0.9425, 0.7199, 0.5664, 0.3846, 0.7159, 0.8503, 0.7182, 0.8077,\n",
       "        0.5605, 0.4451, 0.3585, 0.3674, 0.4814, 0.8041, 0.5124, 0.6236,\n",
       "        0.44  , 1.6888, 0.3991, 0.5575, 0.4983, 0.3797, 0.4848, 1.4584,\n",
       "        0.6516, 0.5422, 0.9825, 1.0442, 0.3803, 0.7295, 0.8214, 0.3827,\n",
       "        1.3573, 0.9998, 1.5531, 0.4864, 0.5744, 0.3629, 0.5074, 1.4153,\n",
       "        0.4423, 1.3319, 1.4095, 0.5866, 0.3717, 0.4267, 0.6418, 0.5593,\n",
       "        0.7238, 1.1108, 0.5516, 0.4047, 0.584 , 0.5314, 0.4922, 0.9725,\n",
       "        0.915 , 1.1643, 0.7788, 1.5335, 0.6583, 0.6887, 0.4955, 1.1838,\n",
       "        0.5313]),\n",
       " 'rt_lower': array([0.5948, 0.8306, 0.7699, 0.4945, 0.7136, 0.9641, 0.7287, 1.0126,\n",
       "        0.8044, 0.9917, 0.6933, 0.4788, 0.4272, 0.3415, 0.6282, 0.5933,\n",
       "        0.6922, 1.701 , 0.6856, 0.4805, 2.5082, 0.7959, 0.6553, 1.3321,\n",
       "        0.5123, 0.8071, 0.5706, 0.7181, 0.6067, 0.3605, 0.8203, 0.6642,\n",
       "        1.2742, 0.6105, 1.9724, 0.9406, 0.4707, 0.6816, 1.1502, 0.5036,\n",
       "        1.1498, 1.1749, 0.5438, 0.5227, 0.5893, 0.656 , 0.8728, 1.1153,\n",
       "        0.3898, 0.4384, 0.3828, 0.706 , 1.0552, 0.8967, 0.5574, 0.9179,\n",
       "        0.3911, 0.3158, 0.7407, 0.3341, 0.3648, 0.5105, 1.0296, 0.9455,\n",
       "        0.4387, 0.4916, 0.3186, 0.472 , 0.4028, 0.4103, 0.4781, 0.7862,\n",
       "        0.5162, 1.2273, 1.9684, 1.1145, 0.495 , 0.6554, 0.8732, 1.7003,\n",
       "        0.5574, 0.5663, 0.3613, 0.3842, 0.6695, 0.6911, 0.391 , 1.2989,\n",
       "        0.6008, 0.5479, 0.4876, 0.4781, 0.9834, 0.5759, 0.3245, 0.6337,\n",
       "        0.6231, 0.8452, 0.3494, 0.9674, 1.2244, 2.2093, 0.508 , 0.7791,\n",
       "        0.5331, 0.4518, 0.6085, 1.9924, 0.6473, 1.2318, 0.4433, 0.992 ,\n",
       "        2.0575, 0.4221, 0.5259, 0.345 , 0.36  , 0.9848, 0.4063, 0.4185,\n",
       "        0.4134, 1.5277, 0.3379, 0.515 , 0.4725, 0.5196, 0.3414, 0.8541,\n",
       "        1.1761, 1.0201, 0.5778, 0.3607, 0.6249, 0.6534, 0.8255, 1.5409,\n",
       "        1.7581, 0.6953, 0.5805, 0.5681, 1.2105, 0.4912, 0.837 , 0.361 ,\n",
       "        0.6531, 0.5159, 0.4566, 0.9342, 0.4481, 0.6625, 0.3785, 1.0195,\n",
       "        0.5841, 1.2031, 0.52  , 0.5067, 0.4578, 1.0969, 0.4554, 0.6336,\n",
       "        0.6968, 0.9145, 0.5677, 0.4125, 2.5283, 0.6168, 0.4168, 0.4406,\n",
       "        0.4505, 0.37  , 0.4848, 0.3664, 2.1329, 0.9215, 0.376 , 0.5976,\n",
       "        0.6897, 0.7146, 0.5611, 1.0471, 0.6736, 0.962 , 1.1992, 0.4121,\n",
       "        0.3098, 0.5977, 1.6519, 0.6486, 0.9113, 0.4317, 0.4961])}"
      ]
     },
     "execution_count": 30,
     "metadata": {},
     "output_type": "execute_result"
    }
   ],
   "source": [
    "# parameters for model\n",
    "phi = {'tnd' : 0.25,  # non-decision time\n",
    "         'w' : 0.5,   # relative start point\n",
    "        'mu' : 1.0 ,  # drift rate\n",
    "         'b' : 0.75}  # decision threshold location\n",
    "\n",
    "# simulate data from the model\n",
    "rt = pbp.simulate(N_sims = 1000,   # number of data points to simulate\n",
    "                   model = model,  # dictionary containing model information\n",
    "                     phi = phi)    # parameters used to simulate data\n",
    "\n",
    "rt\n"
   ]
  },
  {
   "cell_type": "markdown",
   "id": "2665d417",
   "metadata": {},
   "source": [
    "The next function we introduce is likelihood. likelihood takes the input model and calculates its likelihood function (i.e. the model's predicted rt distribution). It has three required inputs: model, phi, and rt_max. Model and phi are the same as for the simulate function, while rt_max is the maximum likelihood value to solve for.\n",
    "\n",
    "It also has two optional inputs, x_res and t_res, which allow modification of the spatial and time stepping resolution. In general, these need not be touched (see default functions description file for more info).\n",
    "\n",
    "This function outputs a dictionary containing three keys: 'time', 'lh_upper', and 'lh_lower'. These contain the time array, upper threshold likelihood function, and lower threshold likelihood function, respectively.\n"
   ]
  },
  {
   "cell_type": "code",
   "execution_count": 34,
   "id": "f657d73a",
   "metadata": {},
   "outputs": [
    {
     "data": {
      "text/plain": [
       "{'time': array([0.       , 0.0111875, 0.022375 , 0.0335625, 0.04475  , 0.0559375,\n",
       "        0.067125 , 0.0783125, 0.0895   , 0.1006875, 0.111875 , 0.1230625,\n",
       "        0.13425  , 0.1454375, 0.156625 , 0.1678125, 0.179    , 0.1901875,\n",
       "        0.201375 , 0.2125625, 0.22375  , 0.2349375, 0.246125 , 0.2573125,\n",
       "        0.2685   , 0.2796875, 0.290875 , 0.3020625, 0.31325  , 0.3244375,\n",
       "        0.335625 , 0.3468125, 0.358    , 0.3691875, 0.380375 , 0.3915625,\n",
       "        0.40275  , 0.4139375, 0.425125 , 0.4363125, 0.4475   , 0.4586875,\n",
       "        0.469875 , 0.4810625, 0.49225  , 0.5034375, 0.514625 , 0.5258125,\n",
       "        0.537    , 0.5481875, 0.559375 , 0.5705625, 0.58175  , 0.5929375,\n",
       "        0.604125 , 0.6153125, 0.6265   , 0.6376875, 0.648875 , 0.6600625,\n",
       "        0.67125  , 0.6824375, 0.693625 , 0.7048125, 0.716    , 0.7271875,\n",
       "        0.738375 , 0.7495625, 0.76075  , 0.7719375, 0.783125 , 0.7943125,\n",
       "        0.8055   , 0.8166875, 0.827875 , 0.8390625, 0.85025  , 0.8614375,\n",
       "        0.872625 , 0.8838125, 0.895    , 0.9061875, 0.917375 , 0.9285625,\n",
       "        0.93975  , 0.9509375, 0.962125 , 0.9733125, 0.9845   , 0.9956875,\n",
       "        1.006875 , 1.0180625, 1.02925  , 1.0404375, 1.051625 , 1.0628125,\n",
       "        1.074    , 1.0851875, 1.096375 , 1.1075625, 1.11875  , 1.1299375,\n",
       "        1.141125 , 1.1523125, 1.1635   , 1.1746875, 1.185875 , 1.1970625,\n",
       "        1.20825  , 1.2194375, 1.230625 , 1.2418125, 1.253    , 1.2641875,\n",
       "        1.275375 , 1.2865625, 1.29775  , 1.3089375, 1.320125 , 1.3313125,\n",
       "        1.3425   , 1.3536875, 1.364875 , 1.3760625, 1.38725  , 1.3984375,\n",
       "        1.409625 , 1.4208125, 1.432    , 1.4431875, 1.454375 , 1.4655625,\n",
       "        1.47675  , 1.4879375, 1.499125 , 1.5103125, 1.5215   , 1.5326875,\n",
       "        1.543875 , 1.5550625, 1.56625  , 1.5774375, 1.588625 , 1.5998125,\n",
       "        1.611    , 1.6221875, 1.633375 , 1.6445625, 1.65575  , 1.6669375,\n",
       "        1.678125 , 1.6893125, 1.7005   , 1.7116875, 1.722875 , 1.7340625,\n",
       "        1.74525  , 1.7564375, 1.767625 , 1.7788125, 1.79     , 1.8011875,\n",
       "        1.812375 , 1.8235625, 1.83475  , 1.8459375, 1.857125 , 1.8683125,\n",
       "        1.8795   , 1.8906875, 1.901875 , 1.9130625, 1.92425  , 1.9354375,\n",
       "        1.946625 , 1.9578125, 1.969    , 1.9801875, 1.991375 , 2.0025625,\n",
       "        2.01375  , 2.0249375, 2.036125 , 2.0473125, 2.0585   , 2.0696875,\n",
       "        2.080875 , 2.0920625, 2.10325  , 2.1144375, 2.125625 , 2.1368125,\n",
       "        2.148    , 2.1591875, 2.170375 , 2.1815625, 2.19275  , 2.2039375,\n",
       "        2.215125 , 2.2263125, 2.2375   , 2.2486875, 2.259875 , 2.2710625,\n",
       "        2.28225  , 2.2934375, 2.304625 , 2.3158125, 2.327    , 2.3381875,\n",
       "        2.349375 , 2.3605625, 2.37175  , 2.3829375, 2.394125 , 2.4053125,\n",
       "        2.4165   , 2.4276875, 2.438875 , 2.4500625, 2.46125  , 2.4724375,\n",
       "        2.483625 , 2.4948125, 2.506    , 2.5171875, 2.528375 , 2.5395625,\n",
       "        2.55075  , 2.5619375, 2.573125 , 2.5843125, 2.5955   , 2.6066875,\n",
       "        2.617875 , 2.6290625, 2.64025  , 2.6514375, 2.662625 , 2.6738125,\n",
       "        2.685    , 2.6961875, 2.707375 , 2.7185625, 2.72975  , 2.7409375,\n",
       "        2.752125 , 2.7633125, 2.7745   , 2.7856875, 2.796875 , 2.8080625,\n",
       "        2.81925  , 2.8304375, 2.841625 , 2.8528125, 2.864    , 2.8751875,\n",
       "        2.886375 , 2.8975625, 2.90875  , 2.9199375, 2.931125 , 2.9423125,\n",
       "        2.9535   , 2.9646875, 2.975875 , 2.9870625, 2.99825  , 3.0094375]),\n",
       " 'lh_upper': array([1.00000000e-05, 1.00000000e-05, 1.00000000e-05, 1.00000000e-05,\n",
       "        1.00000000e-05, 1.00000000e-05, 1.00000000e-05, 1.00000000e-05,\n",
       "        1.00000000e-05, 1.00000000e-05, 1.00000000e-05, 1.00000000e-05,\n",
       "        1.00000000e-05, 1.00000000e-05, 1.00000000e-05, 1.00000000e-05,\n",
       "        1.00000000e-05, 1.00000000e-05, 1.00000000e-05, 1.00000000e-05,\n",
       "        1.00000000e-05, 1.00000000e-05, 1.00000000e-05, 1.00000000e-05,\n",
       "        5.94992844e-04, 1.59181967e-02, 8.73977190e-02, 2.39703602e-01,\n",
       "        4.50831233e-01, 6.80935303e-01, 8.99297478e-01, 1.08841987e+00,\n",
       "        1.24311617e+00, 1.36342919e+00, 1.45244948e+00, 1.51501201e+00,\n",
       "        1.55571528e+00, 1.57865217e+00, 1.58723515e+00, 1.58435748e+00,\n",
       "        1.57274896e+00, 1.55454086e+00, 1.53101849e+00, 1.50362454e+00,\n",
       "        1.47343343e+00, 1.44120430e+00, 1.40760723e+00, 1.37315357e+00,\n",
       "        1.33823511e+00, 1.30316673e+00, 1.26820820e+00, 1.23353121e+00,\n",
       "        1.19926210e+00, 1.16556303e+00, 1.13248611e+00, 1.10005776e+00,\n",
       "        1.06834463e+00, 1.03741510e+00, 1.00725268e+00, 9.77842603e-01,\n",
       "        9.49190252e-01, 9.21296202e-01, 8.94201359e-01, 8.67881145e-01,\n",
       "        8.42296654e-01, 8.17432389e-01, 7.93275350e-01, 7.69811387e-01,\n",
       "        7.47025479e-01, 7.24901965e-01, 7.03424727e-01, 6.82577359e-01,\n",
       "        6.62343288e-01, 6.42705890e-01, 6.23647222e-01, 6.05150690e-01,\n",
       "        5.87200519e-01, 5.69781023e-01, 5.52876872e-01, 5.36473107e-01,\n",
       "        5.20555144e-01, 5.05108778e-01, 4.90120182e-01, 4.75575904e-01,\n",
       "        4.61462867e-01, 4.47768356e-01, 4.34480018e-01, 4.21585854e-01,\n",
       "        4.09074208e-01, 3.96933761e-01, 3.85153524e-01, 3.73722829e-01,\n",
       "        3.62631318e-01, 3.51868940e-01, 3.41425936e-01, 3.31292838e-01,\n",
       "        3.21460453e-01, 3.11919863e-01, 3.02662413e-01, 2.93679702e-01,\n",
       "        2.84963579e-01, 2.76506134e-01, 2.68299692e-01, 2.60336805e-01,\n",
       "        2.52610245e-01, 2.45113000e-01, 2.37838263e-01, 2.30779433e-01,\n",
       "        2.23930100e-01, 2.17284049e-01, 2.10835245e-01, 2.04577836e-01,\n",
       "        1.98506141e-01, 1.92614648e-01, 1.86898009e-01, 1.81351035e-01,\n",
       "        1.75968690e-01, 1.70746088e-01, 1.65678488e-01, 1.60761291e-01,\n",
       "        1.55990031e-01, 1.51360379e-01, 1.46868130e-01, 1.42509208e-01,\n",
       "        1.38279654e-01, 1.34175631e-01, 1.30193411e-01, 1.26329380e-01,\n",
       "        1.22580030e-01, 1.18941958e-01, 1.15411861e-01, 1.11986534e-01,\n",
       "        1.08662868e-01, 1.05437845e-01, 1.02308539e-01, 9.92721075e-02,\n",
       "        9.63257948e-02, 9.34669262e-02, 9.06929065e-02, 8.80012173e-02,\n",
       "        8.53894151e-02, 8.28551291e-02, 8.03960586e-02, 7.80099712e-02,\n",
       "        7.56947008e-02, 7.34481458e-02, 7.12682666e-02, 6.91530843e-02,\n",
       "        6.71006789e-02, 6.51091872e-02, 6.31768013e-02, 6.13017670e-02,\n",
       "        5.94823821e-02, 5.77169950e-02, 5.60040031e-02, 5.43418514e-02,\n",
       "        5.27290309e-02, 5.11640776e-02, 4.96455709e-02, 4.81721321e-02,\n",
       "        4.67424237e-02, 4.53551479e-02, 4.40090452e-02, 4.27028938e-02,\n",
       "        4.14355078e-02, 4.02057368e-02, 3.90124643e-02, 3.78546072e-02,\n",
       "        3.67311143e-02, 3.56409657e-02, 3.45831718e-02, 3.35567723e-02,\n",
       "        3.25608355e-02, 3.15944573e-02, 3.06567604e-02, 2.97468935e-02,\n",
       "        2.88640307e-02, 2.80073706e-02, 2.71761354e-02, 2.63695705e-02,\n",
       "        2.55869439e-02, 2.48275449e-02, 2.40906842e-02, 2.33756930e-02,\n",
       "        2.26819221e-02, 2.20087417e-02, 2.13555407e-02, 2.07217263e-02,\n",
       "        2.01067228e-02, 1.95099722e-02, 1.89309327e-02, 1.83690785e-02,\n",
       "        1.78238997e-02, 1.72949013e-02, 1.67816032e-02, 1.62835393e-02,\n",
       "        1.58002576e-02, 1.53313192e-02, 1.48762986e-02, 1.44347825e-02,\n",
       "        1.40063703e-02, 1.35906730e-02, 1.31873133e-02, 1.27959249e-02,\n",
       "        1.24161526e-02, 1.20476517e-02, 1.16900875e-02, 1.13431355e-02,\n",
       "        1.10064808e-02, 1.06798177e-02, 1.03628497e-02, 1.00552890e-02,\n",
       "        9.75685651e-03, 9.46728121e-03, 9.18630027e-03, 8.91365860e-03,\n",
       "        8.64910871e-03, 8.39241043e-03, 8.14333075e-03, 7.90164354e-03,\n",
       "        7.66712941e-03, 7.43957545e-03, 7.21877511e-03, 7.00452793e-03,\n",
       "        6.79663944e-03, 6.59492089e-03, 6.39918919e-03, 6.20926663e-03,\n",
       "        6.02498082e-03, 5.84616446e-03, 5.67265521e-03, 5.50429558e-03,\n",
       "        5.34093271e-03, 5.18241832e-03, 5.02860850e-03, 4.87936363e-03,\n",
       "        4.73454822e-03, 4.59403081e-03, 4.45768384e-03, 4.32538353e-03,\n",
       "        4.19700979e-03, 4.07244607e-03, 3.95157929e-03, 3.83429974e-03,\n",
       "        3.72050095e-03, 3.61007961e-03, 3.50293548e-03, 3.39897130e-03,\n",
       "        3.29809269e-03, 3.20020808e-03, 3.10522859e-03, 3.01306802e-03,\n",
       "        2.92364269e-03, 2.83687144e-03, 2.75267548e-03, 2.67097838e-03,\n",
       "        2.59170599e-03, 2.51478634e-03, 2.44014959e-03, 2.36772801e-03,\n",
       "        2.29745583e-03, 2.22926927e-03, 2.16310644e-03, 2.09890726e-03,\n",
       "        2.03661345e-03, 1.97616848e-03, 1.91751746e-03, 1.86060715e-03,\n",
       "        1.80538590e-03, 1.75180356e-03]),\n",
       " 'lh_lower': array([1.00000000e-05, 1.00000000e-05, 1.00000000e-05, 1.00000000e-05,\n",
       "        1.00000000e-05, 1.00000000e-05, 1.00000000e-05, 1.00000000e-05,\n",
       "        1.00000000e-05, 1.00000000e-05, 1.00000000e-05, 1.00000000e-05,\n",
       "        1.00000000e-05, 1.00000000e-05, 1.00000000e-05, 1.00000000e-05,\n",
       "        1.00000000e-05, 1.00000000e-05, 1.00000000e-05, 1.00000000e-05,\n",
       "        1.00000000e-05, 1.00000000e-05, 1.00000000e-05, 1.00000000e-05,\n",
       "        1.34637215e-04, 3.54143958e-03, 1.94680248e-02, 5.34273810e-02,\n",
       "        1.00520052e-01, 1.51856603e-01, 2.00579852e-01, 2.42782442e-01,\n",
       "        2.77305035e-01, 3.04155996e-01, 3.24024347e-01, 3.37988674e-01,\n",
       "        3.47074983e-01, 3.52196541e-01, 3.54114825e-01, 3.53475470e-01,\n",
       "        3.50887648e-01, 3.46826977e-01, 3.41580285e-01, 3.35469523e-01,\n",
       "        3.28734467e-01, 3.21544527e-01, 3.14049245e-01, 3.06362735e-01,\n",
       "        2.98572431e-01, 2.90748606e-01, 2.82949231e-01, 2.75212624e-01,\n",
       "        2.67566983e-01, 2.60048493e-01, 2.52668788e-01, 2.45433768e-01,\n",
       "        2.38358305e-01, 2.31457660e-01, 2.24728155e-01, 2.18166498e-01,\n",
       "        2.11773891e-01, 2.05550465e-01, 1.99505345e-01, 1.93633050e-01,\n",
       "        1.87924900e-01, 1.82377437e-01, 1.76987762e-01, 1.71752719e-01,\n",
       "        1.66668955e-01, 1.61732978e-01, 1.56941190e-01, 1.52289933e-01,\n",
       "        1.47775508e-01, 1.43394206e-01, 1.39142025e-01, 1.35015261e-01,\n",
       "        1.31010396e-01, 1.27123930e-01, 1.23352443e-01, 1.19692597e-01,\n",
       "        1.16141138e-01, 1.12694897e-01, 1.09350789e-01, 1.06105813e-01,\n",
       "        1.02957051e-01, 9.99016670e-02, 9.69369041e-02, 9.40600851e-02,\n",
       "        9.12686098e-02, 8.85599528e-02, 8.59316624e-02, 8.33813582e-02,\n",
       "        8.09067296e-02, 7.85055337e-02, 7.61755936e-02, 7.39147963e-02,\n",
       "        7.17210915e-02, 6.95924891e-02, 6.75270579e-02, 6.55229238e-02,\n",
       "        6.35782683e-02, 6.16913265e-02, 5.98603860e-02, 5.80837850e-02,\n",
       "        5.63599111e-02, 5.46871994e-02, 5.30641318e-02, 5.14892350e-02,\n",
       "        4.99610794e-02, 4.84782778e-02, 4.70394843e-02, 4.56433928e-02,\n",
       "        4.42887359e-02, 4.29742840e-02, 4.16988438e-02, 4.04612575e-02,\n",
       "        3.92604016e-02, 3.80951861e-02, 3.69645532e-02, 3.58674765e-02,\n",
       "        3.48029600e-02, 3.37700375e-02, 3.27677713e-02, 3.17952514e-02,\n",
       "        3.08515952e-02, 2.99359458e-02, 2.90474721e-02, 2.81853676e-02,\n",
       "        2.73488496e-02, 2.65371588e-02, 2.57495582e-02, 2.49853330e-02,\n",
       "        2.42437893e-02, 2.35242540e-02, 2.28260740e-02, 2.21486153e-02,\n",
       "        2.14912630e-02, 2.08534204e-02, 2.02345084e-02, 1.96339652e-02,\n",
       "        1.90512457e-02, 1.84858207e-02, 1.79371771e-02, 1.74048168e-02,\n",
       "        1.68882564e-02, 1.63870272e-02, 1.59006740e-02, 1.54287554e-02,\n",
       "        1.49708429e-02, 1.45265209e-02, 1.40953859e-02, 1.36770467e-02,\n",
       "        1.32711235e-02, 1.28772477e-02, 1.24950618e-02, 1.21242189e-02,\n",
       "        1.17643823e-02, 1.14152253e-02, 1.10764310e-02, 1.07476919e-02,\n",
       "        1.04287094e-02, 1.01191941e-02, 9.81886491e-03, 9.52744925e-03,\n",
       "        9.24468257e-03, 8.97030817e-03, 8.70407696e-03, 8.44574728e-03,\n",
       "        8.19508460e-03, 7.95186138e-03, 7.71585682e-03, 7.48685668e-03,\n",
       "        7.26465307e-03, 7.04904428e-03, 6.83983457e-03, 6.63683403e-03,\n",
       "        6.43985838e-03, 6.24872880e-03, 6.06327178e-03, 5.88331897e-03,\n",
       "        5.70870701e-03, 5.53927739e-03, 5.37487630e-03, 5.21535449e-03,\n",
       "        5.06056715e-03, 4.91037377e-03, 4.76463801e-03, 4.62322756e-03,\n",
       "        4.48601405e-03, 4.35287293e-03, 4.22368332e-03, 4.09832795e-03,\n",
       "        3.97669303e-03, 3.85866812e-03, 3.74414610e-03, 3.63302299e-03,\n",
       "        3.52519792e-03, 3.42057301e-03, 3.31905328e-03, 3.22054657e-03,\n",
       "        3.12496346e-03, 3.03221717e-03, 2.94222351e-03, 2.85490079e-03,\n",
       "        2.77016974e-03, 2.68795343e-03, 2.60817723e-03, 2.53076873e-03,\n",
       "        2.45565764e-03, 2.38277578e-03, 2.31205700e-03, 2.24343710e-03,\n",
       "        2.17685377e-03, 2.11224658e-03, 2.04955688e-03, 1.98872775e-03,\n",
       "        1.92970399e-03, 1.87243199e-03, 1.81685979e-03, 1.76293692e-03,\n",
       "        1.71061443e-03, 1.65984483e-03, 1.61058203e-03, 1.56278131e-03,\n",
       "        1.51639928e-03, 1.47139382e-03, 1.42772409e-03, 1.38535044e-03,\n",
       "        1.34423441e-03, 1.30433866e-03, 1.26562698e-03, 1.22806424e-03,\n",
       "        1.19161633e-03, 1.15625016e-03, 1.12193362e-03, 1.08863558e-03,\n",
       "        1.05632579e-03, 1.02497493e-03, 9.94554533e-04, 9.65036991e-04,\n",
       "        9.36395505e-04, 9.08604074e-04, 8.81637469e-04, 8.55471210e-04,\n",
       "        8.30081544e-04, 8.05445422e-04, 7.81540479e-04, 7.58345015e-04,\n",
       "        7.35837972e-04, 7.13998920e-04, 6.92808033e-04, 6.72246073e-04,\n",
       "        6.52294375e-04, 6.32934826e-04, 6.14149853e-04, 5.95922402e-04,\n",
       "        5.78235926e-04, 5.61074370e-04, 5.44422154e-04, 5.28264163e-04,\n",
       "        5.12585727e-04, 4.97372613e-04, 4.82611012e-04, 4.68287523e-04,\n",
       "        4.54389143e-04, 4.40903256e-04, 4.27817618e-04, 4.15120351e-04,\n",
       "        4.02799928e-04, 3.90845165e-04])}"
      ]
     },
     "execution_count": 34,
     "metadata": {},
     "output_type": "execute_result"
    }
   ],
   "source": [
    "lh = pbp.likelihood(model = model,\n",
    "                      phi = phi,\n",
    "                   rt_max = 3.0)\n",
    "\n",
    "lh\n"
   ]
  },
  {
   "cell_type": "markdown",
   "id": "580484ea",
   "metadata": {},
   "source": [
    "The next function we introduce is loglikelihood. loglikelihood takes the model class and and a dataset and calculates the loglikelihood of the data (based on the model's likelihood function). It has three required inputs: model, phi, and rt. model and phi are the same inputs as those used by the simulate and likelihood functions.\n",
    "\n",
    "The input rt requires a dictionary containing the reaction time data you want to find the loglikelihood of. The dictionary must look the same as that output by simulate. It should have two keys, 'rt_upper' and 'rt_lower', whose values are lists/numpy arrays which the rt data for the upper and lower decision thresholds, respectively.\n",
    "\n",
    "It also has two optional inputs, x_res and t_res, which allow modification of the spatial and time stepping resolution. In general, these need not be touched (see default functions description file for more info).\n",
    "\n",
    "This function outputs a number corresponding to the data's loglikelihood.\n"
   ]
  },
  {
   "cell_type": "code",
   "execution_count": 32,
   "id": "b61fbaac",
   "metadata": {},
   "outputs": [
    {
     "data": {
      "text/plain": [
       "-618.6874279272467"
      ]
     },
     "execution_count": 32,
     "metadata": {},
     "output_type": "execute_result"
    }
   ],
   "source": [
    "ll = pbp.loglikelihood(model = model,\n",
    "                         phi = phi,\n",
    "                          rt = rt)\n",
    "\n",
    "ll\n"
   ]
  },
  {
   "cell_type": "markdown",
   "id": "ccb7ddde",
   "metadata": {},
   "source": [
    "PyBEAM also contains a plotting utility. It generates a figure which overlays the model likelihood over rt data. It accepts the same model and phi inputs as the simulate function, but also requires an input of the rt. This is the same input as for the loglikelihood function. Input rt must be a dictionary containing two keys, 'rt_upper' and 'rt_lower'. The values for these keys are lists/numpy arrays which contain the rt data for the upper and lower decision thresholds, respectively.\n",
    "\n",
    "The function has two three additional optional inputs: x_res, t_res, and bins. x_res and t_res are discussed further in the functions description notebook, but you should never need to change their default settings. bins sets the amount of histogram bins to use for the rt data. Though the default setting often is fine, it sometimes fails to choose the proper bin amount and may need to be manually input.\n"
   ]
  },
  {
   "cell_type": "code",
   "execution_count": 39,
   "id": "0abf3c58",
   "metadata": {},
   "outputs": [
    {
     "data": {
      "image/png": "[encoded data removed]",
      "text/plain": [
       "<Figure size 640x400 with 1 Axes>"
      ]
     },
     "metadata": {},
     "output_type": "display_data"
    }
   ],
   "source": [
    "# plot data and model likelihood function\n",
    "fig = pbp.plot_rt(model = model, # dictionary containing model information \n",
    "                    phi = phi,   # parameters used for model rt distribution\n",
    "                 rt_max = 3.0,   # dictionary of simulated rt data\n",
    "                     rt = rt);   # dictionary of simulated rt data\n"
   ]
  },
  {
   "cell_type": "code",
   "execution_count": null,
   "id": "deda052b",
   "metadata": {},
   "outputs": [],
   "source": []
  }
 ],
 "metadata": {
  "kernelspec": {
   "display_name": "pymc_env",
   "language": "python",
   "name": "pymc_env"
  },
  "language_info": {
   "codemirror_mode": {
    "name": "ipython",
    "version": 3
   },
   "file_extension": ".py",
   "mimetype": "text/x-python",
   "name": "python",
   "nbconvert_exporter": "python",
   "pygments_lexer": "ipython3",
   "version": "3.10.6"
  }
 },
 "nbformat": 4,
 "nbformat_minor": 5
}
