{
 "cells": [
  {
   "cell_type": "markdown",
   "id": "3fae7b24",
   "metadata": {},
   "source": [
    "# Choosing a model\n"
   ]
  },
  {
   "cell_type": "markdown",
   "id": "834c1042",
   "metadata": {},
   "source": [
    "In this tutorial we show how to build a model using PyBEAM's pre-coded sub-module. This sub-module contains a set of commonly used models pre-coded into PyBEAM for easy use.\n",
    "\n",
    "If you have not done so already, install pybeam. To do this, follow the direction listed on the PyBEAM github. Once you have done this, import PyBEAM's pre-coded sub-module.\n"
   ]
  },
  {
   "cell_type": "code",
   "execution_count": 3,
   "id": "cce883ad",
   "metadata": {},
   "outputs": [],
   "source": [
    "# import PyBEAM's default module\n",
    "import pybeam.precoded as pbp\n"
   ]
  },
  {
   "cell_type": "markdown",
   "id": "8d41cbe3",
   "metadata": {},
   "source": [
    "Currently, six model types are implemented in PyBEAM: simpleDDM, DDM, leakage, moving_threholds, UGM, and UGM_flip. More model types will be added in the future to increase PyBEAM's functionality. Models are implemented in classes and are called as follows:\n"
   ]
  },
  {
   "cell_type": "code",
   "execution_count": 23,
   "id": "f41be72a",
   "metadata": {},
   "outputs": [],
   "source": [
    "# call simpleDDM model\n",
    "model_simpleDDM = pbp.simpleDDM()\n",
    "\n",
    "# call DDM model\n",
    "model_DDM = pbp.DDM()\n",
    "\n",
    "# call leakage model\n",
    "model_leakage = pbp.leakage()\n",
    "\n",
    "# call moving_thresholds model\n",
    "model_moving_thresholds = pbp.moving_thresholds()\n",
    "\n",
    "# call UGM model\n",
    "model_UGM = pbp.UGM()\n",
    "\n",
    "# call UGM_flip model\n",
    "model_UGM_flip = pbp.UGM_flip()\n"
   ]
  },
  {
   "cell_type": "markdown",
   "id": "84f12fa4",
   "metadata": {},
   "source": [
    "Each model has a series of default options that are set when the model is called. Optional inputs are available which allow you to change features of the model. These are as follows:\n"
   ]
  },
  {
   "cell_type": "raw",
   "id": "23a1cda6",
   "metadata": {},
   "source": [
    "model_simpleDDM = pbp.simpleDDM(sigma = 1.0, \n",
    "                        contamination = 'none')\n",
    "\n",
    "sigma: sets the diffusion rate. Defaults to 1.0.\n",
    "\n",
    "contamination: sets if contamination is included to the model. Defaults to 'none', can also be 'uniform'.\n"
   ]
  },
  {
   "cell_type": "raw",
   "id": "b146301b",
   "metadata": {},
   "source": [
    "model_DDM = pbp.DDM(sigma = 1.0, \n",
    "            contamination = 'none', \n",
    "             non_decision = 'normal',\n",
    "                    start = 'uniform',\n",
    "                    drift = 'normal')\n",
    "\n",
    "sigma: sets the diffusion rate. Defaults to 1.0.\n",
    "\n",
    "contamination: sets if contamination is included to the model. Defaults to 'none', can also be 'uniform'.\n",
    "\n",
    "non_decision: set non-decision time distribution. Defaults to 'normal', can also be 'uniform' or 'none'.\n",
    "\n",
    "start: set relative start distribution. Defaults to 'uniform', can also be 'normal' or 'none'.\n",
    "\n",
    "drift: set drift rate distribution. Defaults to 'normal', can also be 'uniform' or 'none'.\n"
   ]
  },
  {
   "cell_type": "raw",
   "id": "f2dded21",
   "metadata": {},
   "source": [
    "model_leakage = pbp.leakage(sigma = 1.0, \n",
    "                    contamination = 'none', \n",
    "                     non_decision = 'constant',\n",
    "                            start = 'constant')\n",
    "\n",
    "\n",
    "sigma: sets the diffusion rate. Defaults to 1.0.\n",
    "\n",
    "contamination: sets if contamination is included to the model. Defaults to 'none', can also be 'uniform'.\n",
    "\n",
    "non_decision: set non-decision time distribution. Defaults to 'constant', can also be 'uniform' or 'constant'.\n",
    "\n",
    "start: set relative start distribution. Defaults to 'constant', can also be 'uniform' or 'normal'.\n"
   ]
  },
  {
   "cell_type": "raw",
   "id": "1d61114e",
   "metadata": {},
   "source": [
    "model_moving_thresholds = pbp.moving_thresholds(sigma = 1.0, \n",
    "                                        contamination = 'none', \n",
    "                                           thresholds = 'weibull',\n",
    "                                         non_decision = 'constant',\n",
    "                                                start = 'constant')\n",
    "\n",
    "sigma: sets the diffusion rate. Defaults to 1.0.\n",
    "\n",
    "contamination: sets if contamination is included to the model. Defaults to 'none', can also be 'uniform'.\n",
    "\n",
    "thresholds: set threshold type. Defaults to 'weibull', can also be 'linear' or 'exponential'.\n",
    "\n",
    "non_decision: set non-decision time distribution. Defaults to 'constant', can also be 'uniform' or 'constant'.\n",
    "\n",
    "start: set relative start distribution. Defaults to 'constant', can also be 'uniform' or 'normal'.\n"
   ]
  },
  {
   "cell_type": "raw",
   "id": "b14c3716",
   "metadata": {},
   "source": [
    "model_UGM = pbp.UGM(sigma = 1.0, \n",
    "            contamination = 'none', \n",
    "             non_decision = 'constant',\n",
    "                    start = 'constant')\n",
    "\n",
    "sigma: sets the diffusion rate. Defaults to 1.0.\n",
    "\n",
    "contamination: sets if contamination is included to the model. Defaults to 'none', can also be 'uniform'.\n",
    "\n",
    "non_decision: set non-decision time distribution. Defaults to 'constant', can also be 'uniform' or 'constant'.\n",
    "\n",
    "start: set relative start distribution. Defaults to 'constant', can also be 'uniform' or 'normal'.\n"
   ]
  },
  {
   "cell_type": "raw",
   "id": "21d5a239",
   "metadata": {},
   "source": [
    "model_UGM_flip = pbp.UGM_flip(sigma = 1.0, \n",
    "                      contamination = 'none', \n",
    "                       non_decision = 'constant',\n",
    "                              start = 'constant')\n",
    "\n",
    "sigma: sets the diffusion rate. Defaults to 1.0.\n",
    "\n",
    "contamination: sets if contamination is included to the model. Defaults to 'none', can also be 'uniform'.\n",
    "\n",
    "non_decision: set non-decision time distribution. Defaults to 'constant', can also be 'uniform' or 'constant'.\n",
    "\n",
    "start: set relative start distribution. Defaults to 'constant', can also be 'uniform' or 'normal'.\n"
   ]
  },
  {
   "cell_type": "code",
   "execution_count": null,
   "id": "f134c51d",
   "metadata": {},
   "outputs": [],
   "source": []
  }
 ],
 "metadata": {
  "kernelspec": {
   "display_name": "pymc_env",
   "language": "python",
   "name": "pymc_env"
  },
  "language_info": {
   "codemirror_mode": {
    "name": "ipython",
    "version": 3
   },
   "file_extension": ".py",
   "mimetype": "text/x-python",
   "name": "python",
   "nbconvert_exporter": "python",
   "pygments_lexer": "ipython3",
   "version": "3.10.6"
  }
 },
 "nbformat": 4,
 "nbformat_minor": 5
}
