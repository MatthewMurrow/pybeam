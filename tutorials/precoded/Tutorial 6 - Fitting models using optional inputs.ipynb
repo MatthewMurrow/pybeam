{
 "cells": [
  {
   "cell_type": "markdown",
   "id": "5c1f8d4d",
   "metadata": {},
   "source": [
    "# Tutorial 6 - Fitting models using optional inputs\n"
   ]
  },
  {
   "cell_type": "markdown",
   "id": "bc3708a6",
   "metadata": {},
   "source": [
    "In this tutorial, we introduce adding other features to your model using the model callout. In this example, we will take the simpleDDM model, add a contamination model to it, then change its diffusion rate to 0.1.\n",
    "\n",
    "First, import PyBEAM's pre-coded module.\n"
   ]
  },
  {
   "cell_type": "code",
   "execution_count": 1,
   "id": "6beb052b",
   "metadata": {},
   "outputs": [],
   "source": [
    "# import PyBEAM's pre-coded module\n",
    "import pybeam.precoded as pbp\n"
   ]
  },
  {
   "cell_type": "markdown",
   "id": "50db4891",
   "metadata": {},
   "source": [
    "We then call the simpleDDM with the additional features.\n"
   ]
  },
  {
   "cell_type": "code",
   "execution_count": 2,
   "id": "3c7385e9",
   "metadata": {},
   "outputs": [
    {
     "data": {
      "text/plain": [
       "['tnd', 'w', 'mu', 'b', 'g', 'gl', 'gu']"
      ]
     },
     "execution_count": 2,
     "metadata": {},
     "output_type": "execute_result"
    }
   ],
   "source": [
    "# define simpleDDM with additional features\n",
    "model = pbp.simpleDDM(sigma = 0.1, contamination = 'uniform')\n",
    "\n",
    "# outputs parameters used by your model\n",
    "model.parameters()\n"
   ]
  },
  {
   "cell_type": "markdown",
   "id": "7574e314",
   "metadata": {},
   "source": [
    "We now have a model with a 0.1 diffusion rate and the parameters needed for a contamination model! We use this in the same way as the models introuduced in the earlier tutorials. In this case 'g' sets the contamination strength, 'gl' sets the lower threshold for the uniform contamination distrbution, and 'gu' sets the upper threshold for the uniform contamination distrbution.\n"
   ]
  },
  {
   "cell_type": "code",
   "execution_count": 3,
   "id": "9c757c82",
   "metadata": {},
   "outputs": [
    {
     "data": {
      "image/png": "[encoded data removed]",
      "text/plain": [
       "<Figure size 640x400 with 1 Axes>"
      ]
     },
     "metadata": {},
     "output_type": "display_data"
    }
   ],
   "source": [
    "# parameters for synthetic data\n",
    "phi = {'tnd' : 0.25, # non-decision time\n",
    "         'w' : 0.5,  # relative start point\n",
    "        'mu' : 0.1,  # drift rate\n",
    "         'b' : 0.1,  # decision threshold location\n",
    "         'g' : 0.05,\n",
    "        'gl' : 0.25,\n",
    "        'gu' : 5.0}\n",
    "\n",
    "# generate synthetic data\n",
    "rt = pbp.simulate(N_sims = 1000,   # number of data points to simulate\n",
    "                   model = model, # dictionary containing model information\n",
    "                     phi = phi)   # parameters used to simulate data\n",
    "\n",
    "# plot data and model likelihood function\n",
    "fig = pbp.plot_rt(model = model, # dictionary containing model information \n",
    "                    phi = phi,   # parameters used for model rt distribution\n",
    "                 rt_max = 5.0,   # dictionary of simulated rt data\n",
    "                     rt = rt);   # dictionary of simulated rt data\n"
   ]
  },
  {
   "cell_type": "code",
   "execution_count": null,
   "id": "e03bedeb",
   "metadata": {},
   "outputs": [],
   "source": []
  }
 ],
 "metadata": {
  "kernelspec": {
   "display_name": "pymc_env",
   "language": "python",
   "name": "pymc_env"
  },
  "language_info": {
   "codemirror_mode": {
    "name": "ipython",
    "version": 3
   },
   "file_extension": ".py",
   "mimetype": "text/x-python",
   "name": "python",
   "nbconvert_exporter": "python",
   "pygments_lexer": "ipython3",
   "version": "3.10.6"
  }
 },
 "nbformat": 4,
 "nbformat_minor": 5
}
