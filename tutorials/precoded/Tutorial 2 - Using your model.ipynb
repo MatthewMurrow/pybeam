{
 "cells": [
  {
   "cell_type": "markdown",
   "id": "e5a740a7",
   "metadata": {},
   "source": [
    "# Tutorial 2 - Using your model\n",
    "    "
   ]
  },
  {
   "cell_type": "markdown",
   "id": "c591f399",
   "metadata": {},
   "source": [
    "In this notebook, we show how to use the models discussed in Tutorial 1. Note that we only discuss the necessary inputs here since they are what will be needed in most cases. For full documentation of the following functions and their uses, see the \"precoded_functions_usage\" notebook.\n",
    "\n",
    "If you have not done so already, look at Tutorial 1 to learn how to use the model you are interested in. Once you have done this, import PyBEAM's precoded sub-module.\n"
   ]
  },
  {
   "cell_type": "code",
   "execution_count": 14,
   "id": "0a8bf419",
   "metadata": {},
   "outputs": [],
   "source": [
    "# import PyBEAM's precoded sub-module\n",
    "import pybeam.precoded as pbp\n"
   ]
  },
  {
   "cell_type": "markdown",
   "id": "163c7dab",
   "metadata": {},
   "source": [
    "We will for this example use the simpleDDM model discussed in Tutorial 1a.\n"
   ]
  },
  {
   "cell_type": "code",
   "execution_count": 15,
   "id": "b480a65f",
   "metadata": {},
   "outputs": [],
   "source": [
    "# call simpleDDM model\n",
    "model = pbp.simpleDDM()\n"
   ]
  },
  {
   "cell_type": "markdown",
   "id": "276bb4c0",
   "metadata": {},
   "source": [
    "As demonstrated in Tutorial 1, we can check which parameters our model uses. We should find that it uses the following four parameters:\n",
    "\n",
    "    'tnd': non-decision time\n",
    "      'w': relative start point\n",
    "     'mu': drift rate\n",
    "      'b': decision threshold location (upper is at b, lower is at -b; separation is 2b)\n",
    "      "
   ]
  },
  {
   "cell_type": "code",
   "execution_count": 16,
   "id": "f83f69b9",
   "metadata": {},
   "outputs": [
    {
     "data": {
      "text/plain": [
       "['tnd', 'w', 'mu', 'b']"
      ]
     },
     "execution_count": 16,
     "metadata": {},
     "output_type": "execute_result"
    }
   ],
   "source": [
    "# check which parameters your model uses\n",
    "model.parameters()\n"
   ]
  },
  {
   "cell_type": "markdown",
   "id": "8dc95c3c",
   "metadata": {},
   "source": [
    "Now that we have defined our model and checked which parameters it uses, we can now use PyBEAM's main functions.\n",
    "\n",
    "The first is simulate, a function which simulates data from your model. This requires three inputs: \n",
    "\n",
    "     N_sims (int): Sets number of simulated data points.\n",
    "    model (class): Model class (in this case it will be the simpleDDM).\n",
    "       phi (dict): Contains model parameters. Keys are model parameters, values of keys set the respective\n",
    "                   parameter values. In this case, keys are 't_nd', 'w', 'mu', and 'b'.\n",
    "\n",
    "Two optional inputs are also available for this funtion. These are:\n",
    "\n",
    "    seed (int): sets the random number generator seed.\n",
    "    dt (float): sets the simulation time step (default dt = 0.0001).\n",
    "\n",
    "\n",
    "This function outputs the following:\n",
    "\n",
    "    (dict) containing two keys, 'rt_upper' and 'rt_lower'. Correspond to simulated reaction time data for the\n",
    "    upper and lower decision thresholds, respectively.\n"
   ]
  },
  {
   "cell_type": "code",
   "execution_count": 17,
   "id": "4a55be95",
   "metadata": {},
   "outputs": [
    {
     "data": {
      "text/plain": [
       "{'rt_upper': array([0.7097, 0.4778, 1.0399, 0.3096, 0.7601, 0.7693, 1.6121, 0.4676,\n",
       "        0.5687, 2.4686, 0.5297, 0.5353, 0.633 , 1.1397, 0.698 , 0.348 ,\n",
       "        0.7759, 0.3202, 0.8028, 0.4524, 1.9639, 0.6962, 0.8158, 1.3256,\n",
       "        0.4096, 0.5394, 0.7853, 0.5525, 0.4415, 0.6692, 0.5926, 0.388 ,\n",
       "        0.4122, 0.4737, 0.6728, 0.6674, 1.0166, 0.7174, 0.5619, 0.52  ,\n",
       "        1.6464, 0.3696, 0.5612, 0.6499, 2.1941, 0.6691, 0.7259, 0.3199,\n",
       "        1.1316, 0.7718, 0.4712, 0.7566, 0.4771, 0.6086, 0.4175, 0.7722,\n",
       "        0.9691, 0.4412, 0.445 , 1.2366, 2.0935, 0.4505, 0.4573, 0.4539,\n",
       "        0.7961, 1.0127, 0.3676, 0.9412, 0.5526, 2.4468, 0.8563, 0.3717,\n",
       "        0.5798, 0.6465, 0.5615, 0.4088, 0.4271]),\n",
       " 'rt_lower': array([0.866 , 0.4524, 0.9958, 0.9167, 0.3194, 0.4825, 0.3691, 0.5725,\n",
       "        0.3657, 0.9378, 0.3978, 0.3728, 0.7386, 0.7126, 1.4855, 1.6245,\n",
       "        1.0619, 0.5989, 0.4421, 0.505 , 1.0421, 0.9785, 0.8868])}"
      ]
     },
     "execution_count": 17,
     "metadata": {},
     "output_type": "execute_result"
    }
   ],
   "source": [
    "# parameters for model\n",
    "phi = {'tnd' : 0.25,  # non-decision time\n",
    "         'w' : 0.5,   # relative start point\n",
    "        'mu' : 1.0 ,  # drift rate\n",
    "         'b' : 0.75}  # decision threshold location\n",
    "\n",
    "# simulate data from the model\n",
    "rt = pbp.simulate(N_sims = 100,   # number of data points to simulate\n",
    "                   model = model, # dictionary containing model information\n",
    "                     phi = phi)   # parameters used to simulate data\n",
    "\n",
    "rt\n"
   ]
  },
  {
   "cell_type": "markdown",
   "id": "2665d417",
   "metadata": {},
   "source": [
    "The next function we introduce is likelihood. likelihood takes the input model and calculates its likelihood function (i.e. the model's predicted rt distribution). It has three required inputs: \n",
    "\n",
    "    model (class): Model class (in this case it will be the simpleDDM).\n",
    "    phi (dict): Contains model parameters. Keys are model parameters, values of keys set the respective\n",
    "                parameter values. In this case, keys are 't_nd', 'w', 'mu', and 'b'.\n",
    "    rt_max (float): Sets max time to solve likleihood function to.\n",
    "    \n",
    "likelihood also has several optional inputs. In general, these should not need to be touched, but they are available in case your model has a difficult to calculate likelihood:\n",
    "\n",
    "    N_tnd (int): Number of integration points for non-decision time distribution. Defualts to 50.\n",
    "    N_mu (int): Number of integration points for drift rate distribution. Defaults to 10.\n",
    "    x_res (str,int): Spatial resolution of solver. Sets number of spatial mesh points in finite difference\n",
    "                     grid. Four pre-set options are available: 'default' (101 mesh points), 'high' (151 mesh\n",
    "                     points), 'very_high' (251 mesh points), and 'max' (501 mesh points). Can also be set to an\n",
    "                     integer value between 101 and 501. Default should be used for nearly all cases.\n",
    "    t_res (str): Temporal resolution of sovler. Four options are available: 'default', 'high', 'very_high',\n",
    "                  and 'max'. Default should be used for nearly all cases.\n",
    "                  \n",
    "Other optional inputs are available for this function, but they are only necessary in niche applications and are thus discussed in the \"precoded_functions_usage\" notebook.\n",
    "\n",
    "This function outputs the following:\n",
    "\n",
    "    (dict) containing three keys: 'time', 'rt_upper' and 'rt_lower'. 'time' is the time for each point\n",
    "    in the distribution, while 'rt_upper' and 'rt_lower' are the proabiblity for upper and lower threshold\n",
    "    crossings, respectively, for each value in the 'time' array.\n"
   ]
  },
  {
   "cell_type": "code",
   "execution_count": 18,
   "id": "f657d73a",
   "metadata": {
    "scrolled": true
   },
   "outputs": [
    {
     "data": {
      "text/plain": [
       "{'time': array([0.       , 0.0111875, 0.022375 , 0.0335625, 0.04475  , 0.0559375,\n",
       "        0.067125 , 0.0783125, 0.0895   , 0.1006875, 0.111875 , 0.1230625,\n",
       "        0.13425  , 0.1454375, 0.156625 , 0.1678125, 0.179    , 0.1901875,\n",
       "        0.201375 , 0.2125625, 0.22375  , 0.2349375, 0.246125 , 0.2573125,\n",
       "        0.2685   , 0.2796875, 0.290875 , 0.3020625, 0.31325  , 0.3244375,\n",
       "        0.335625 , 0.3468125, 0.358    , 0.3691875, 0.380375 , 0.3915625,\n",
       "        0.40275  , 0.4139375, 0.425125 , 0.4363125, 0.4475   , 0.4586875,\n",
       "        0.469875 , 0.4810625, 0.49225  , 0.5034375, 0.514625 , 0.5258125,\n",
       "        0.537    , 0.5481875, 0.559375 , 0.5705625, 0.58175  , 0.5929375,\n",
       "        0.604125 , 0.6153125, 0.6265   , 0.6376875, 0.648875 , 0.6600625,\n",
       "        0.67125  , 0.6824375, 0.693625 , 0.7048125, 0.716    , 0.7271875,\n",
       "        0.738375 , 0.7495625, 0.76075  , 0.7719375, 0.783125 , 0.7943125,\n",
       "        0.8055   , 0.8166875, 0.827875 , 0.8390625, 0.85025  , 0.8614375,\n",
       "        0.872625 , 0.8838125, 0.895    , 0.9061875, 0.917375 , 0.9285625,\n",
       "        0.93975  , 0.9509375, 0.962125 , 0.9733125, 0.9845   , 0.9956875,\n",
       "        1.006875 , 1.0180625, 1.02925  , 1.0404375, 1.051625 , 1.0628125,\n",
       "        1.074    , 1.0851875, 1.096375 , 1.1075625, 1.11875  , 1.1299375,\n",
       "        1.141125 , 1.1523125, 1.1635   , 1.1746875, 1.185875 , 1.1970625,\n",
       "        1.20825  , 1.2194375, 1.230625 , 1.2418125, 1.253    , 1.2641875,\n",
       "        1.275375 , 1.2865625, 1.29775  , 1.3089375, 1.320125 , 1.3313125,\n",
       "        1.3425   , 1.3536875, 1.364875 , 1.3760625, 1.38725  , 1.3984375,\n",
       "        1.409625 , 1.4208125, 1.432    , 1.4431875, 1.454375 , 1.4655625,\n",
       "        1.47675  , 1.4879375, 1.499125 , 1.5103125, 1.5215   , 1.5326875,\n",
       "        1.543875 , 1.5550625, 1.56625  , 1.5774375, 1.588625 , 1.5998125,\n",
       "        1.611    , 1.6221875, 1.633375 , 1.6445625, 1.65575  , 1.6669375,\n",
       "        1.678125 , 1.6893125, 1.7005   , 1.7116875, 1.722875 , 1.7340625,\n",
       "        1.74525  , 1.7564375, 1.767625 , 1.7788125, 1.79     , 1.8011875,\n",
       "        1.812375 , 1.8235625, 1.83475  , 1.8459375, 1.857125 , 1.8683125,\n",
       "        1.8795   , 1.8906875, 1.901875 , 1.9130625, 1.92425  , 1.9354375,\n",
       "        1.946625 , 1.9578125, 1.969    , 1.9801875, 1.991375 , 2.0025625,\n",
       "        2.01375  , 2.0249375, 2.036125 , 2.0473125, 2.0585   , 2.0696875,\n",
       "        2.080875 , 2.0920625, 2.10325  , 2.1144375, 2.125625 , 2.1368125,\n",
       "        2.148    , 2.1591875, 2.170375 , 2.1815625, 2.19275  , 2.2039375,\n",
       "        2.215125 , 2.2263125, 2.2375   , 2.2486875, 2.259875 , 2.2710625,\n",
       "        2.28225  , 2.2934375, 2.304625 , 2.3158125, 2.327    , 2.3381875,\n",
       "        2.349375 , 2.3605625, 2.37175  , 2.3829375, 2.394125 , 2.4053125,\n",
       "        2.4165   , 2.4276875, 2.438875 , 2.4500625, 2.46125  , 2.4724375,\n",
       "        2.483625 , 2.4948125, 2.506    , 2.5171875, 2.528375 , 2.5395625,\n",
       "        2.55075  , 2.5619375, 2.573125 , 2.5843125, 2.5955   , 2.6066875,\n",
       "        2.617875 , 2.6290625, 2.64025  , 2.6514375, 2.662625 , 2.6738125,\n",
       "        2.685    , 2.6961875, 2.707375 , 2.7185625, 2.72975  , 2.7409375,\n",
       "        2.752125 , 2.7633125, 2.7745   , 2.7856875, 2.796875 , 2.8080625,\n",
       "        2.81925  , 2.8304375, 2.841625 , 2.8528125, 2.864    , 2.8751875,\n",
       "        2.886375 , 2.8975625, 2.90875  , 2.9199375, 2.931125 , 2.9423125,\n",
       "        2.9535   , 2.9646875, 2.975875 , 2.9870625, 2.99825  , 3.0094375]),\n",
       " 'lh_upper': array([1.00000000e-05, 1.00000000e-05, 1.00000000e-05, 1.00000000e-05,\n",
       "        1.00000000e-05, 1.00000000e-05, 1.00000000e-05, 1.00000000e-05,\n",
       "        1.00000000e-05, 1.00000000e-05, 1.00000000e-05, 1.00000000e-05,\n",
       "        1.00000000e-05, 1.00000000e-05, 1.00000000e-05, 1.00000000e-05,\n",
       "        1.00000000e-05, 1.00000000e-05, 1.00000000e-05, 1.00000000e-05,\n",
       "        1.00000000e-05, 1.00000000e-05, 1.00000000e-05, 1.00000000e-05,\n",
       "        5.94992844e-04, 1.59181967e-02, 8.73977190e-02, 2.39703602e-01,\n",
       "        4.50831233e-01, 6.80935303e-01, 8.99297478e-01, 1.08841987e+00,\n",
       "        1.24311617e+00, 1.36342919e+00, 1.45244948e+00, 1.51501201e+00,\n",
       "        1.55571528e+00, 1.57865217e+00, 1.58723515e+00, 1.58435748e+00,\n",
       "        1.57274896e+00, 1.55454086e+00, 1.53101849e+00, 1.50362454e+00,\n",
       "        1.47343343e+00, 1.44120430e+00, 1.40760723e+00, 1.37315357e+00,\n",
       "        1.33823511e+00, 1.30316673e+00, 1.26820820e+00, 1.23353121e+00,\n",
       "        1.19926210e+00, 1.16556303e+00, 1.13248611e+00, 1.10005776e+00,\n",
       "        1.06834463e+00, 1.03741510e+00, 1.00725268e+00, 9.77842603e-01,\n",
       "        9.49190252e-01, 9.21296202e-01, 8.94201359e-01, 8.67881145e-01,\n",
       "        8.42296654e-01, 8.17432389e-01, 7.93275350e-01, 7.69811387e-01,\n",
       "        7.47025479e-01, 7.24901965e-01, 7.03424727e-01, 6.82577359e-01,\n",
       "        6.62343288e-01, 6.42705890e-01, 6.23647222e-01, 6.05150690e-01,\n",
       "        5.87200519e-01, 5.69781023e-01, 5.52876872e-01, 5.36473107e-01,\n",
       "        5.20555144e-01, 5.05108778e-01, 4.90120182e-01, 4.75575904e-01,\n",
       "        4.61462867e-01, 4.47768356e-01, 4.34480018e-01, 4.21585854e-01,\n",
       "        4.09074208e-01, 3.96933761e-01, 3.85153524e-01, 3.73722829e-01,\n",
       "        3.62631318e-01, 3.51868940e-01, 3.41425936e-01, 3.31292838e-01,\n",
       "        3.21460453e-01, 3.11919863e-01, 3.02662413e-01, 2.93679702e-01,\n",
       "        2.84963579e-01, 2.76506134e-01, 2.68299692e-01, 2.60336805e-01,\n",
       "        2.52610245e-01, 2.45113000e-01, 2.37838263e-01, 2.30779433e-01,\n",
       "        2.23930100e-01, 2.17284049e-01, 2.10835245e-01, 2.04577836e-01,\n",
       "        1.98506141e-01, 1.92614648e-01, 1.86898009e-01, 1.81351035e-01,\n",
       "        1.75968690e-01, 1.70746088e-01, 1.65678488e-01, 1.60761291e-01,\n",
       "        1.55990031e-01, 1.51360379e-01, 1.46868130e-01, 1.42509208e-01,\n",
       "        1.38279654e-01, 1.34175631e-01, 1.30193411e-01, 1.26329380e-01,\n",
       "        1.22580030e-01, 1.18941958e-01, 1.15411861e-01, 1.11986534e-01,\n",
       "        1.08662868e-01, 1.05437845e-01, 1.02308539e-01, 9.92721075e-02,\n",
       "        9.63257948e-02, 9.34669262e-02, 9.06929065e-02, 8.80012173e-02,\n",
       "        8.53894151e-02, 8.28551291e-02, 8.03960586e-02, 7.80099712e-02,\n",
       "        7.56947008e-02, 7.34481458e-02, 7.12682666e-02, 6.91530843e-02,\n",
       "        6.71006789e-02, 6.51091872e-02, 6.31768013e-02, 6.13017670e-02,\n",
       "        5.94823821e-02, 5.77169950e-02, 5.60040031e-02, 5.43418514e-02,\n",
       "        5.27290309e-02, 5.11640776e-02, 4.96455709e-02, 4.81721321e-02,\n",
       "        4.67424237e-02, 4.53551479e-02, 4.40090452e-02, 4.27028938e-02,\n",
       "        4.14355078e-02, 4.02057368e-02, 3.90124643e-02, 3.78546072e-02,\n",
       "        3.67311143e-02, 3.56409657e-02, 3.45831718e-02, 3.35567723e-02,\n",
       "        3.25608355e-02, 3.15944573e-02, 3.06567604e-02, 2.97468935e-02,\n",
       "        2.88640307e-02, 2.80073706e-02, 2.71761354e-02, 2.63695705e-02,\n",
       "        2.55869439e-02, 2.48275449e-02, 2.40906842e-02, 2.33756930e-02,\n",
       "        2.26819221e-02, 2.20087417e-02, 2.13555407e-02, 2.07217263e-02,\n",
       "        2.01067228e-02, 1.95099722e-02, 1.89309327e-02, 1.83690785e-02,\n",
       "        1.78238997e-02, 1.72949013e-02, 1.67816032e-02, 1.62835393e-02,\n",
       "        1.58002576e-02, 1.53313192e-02, 1.48762986e-02, 1.44347825e-02,\n",
       "        1.40063703e-02, 1.35906730e-02, 1.31873133e-02, 1.27959249e-02,\n",
       "        1.24161526e-02, 1.20476517e-02, 1.16900875e-02, 1.13431355e-02,\n",
       "        1.10064808e-02, 1.06798177e-02, 1.03628497e-02, 1.00552890e-02,\n",
       "        9.75685651e-03, 9.46728121e-03, 9.18630027e-03, 8.91365860e-03,\n",
       "        8.64910871e-03, 8.39241043e-03, 8.14333075e-03, 7.90164354e-03,\n",
       "        7.66712941e-03, 7.43957545e-03, 7.21877511e-03, 7.00452793e-03,\n",
       "        6.79663944e-03, 6.59492089e-03, 6.39918919e-03, 6.20926663e-03,\n",
       "        6.02498082e-03, 5.84616446e-03, 5.67265521e-03, 5.50429558e-03,\n",
       "        5.34093271e-03, 5.18241832e-03, 5.02860850e-03, 4.87936363e-03,\n",
       "        4.73454822e-03, 4.59403081e-03, 4.45768384e-03, 4.32538353e-03,\n",
       "        4.19700979e-03, 4.07244607e-03, 3.95157929e-03, 3.83429974e-03,\n",
       "        3.72050095e-03, 3.61007961e-03, 3.50293548e-03, 3.39897130e-03,\n",
       "        3.29809269e-03, 3.20020808e-03, 3.10522859e-03, 3.01306802e-03,\n",
       "        2.92364269e-03, 2.83687144e-03, 2.75267548e-03, 2.67097838e-03,\n",
       "        2.59170599e-03, 2.51478634e-03, 2.44014959e-03, 2.36772801e-03,\n",
       "        2.29745583e-03, 2.22926927e-03, 2.16310644e-03, 2.09890726e-03,\n",
       "        2.03661345e-03, 1.97616848e-03, 1.91751746e-03, 1.86060715e-03,\n",
       "        1.80538590e-03, 1.75180356e-03]),\n",
       " 'lh_lower': array([1.00000000e-05, 1.00000000e-05, 1.00000000e-05, 1.00000000e-05,\n",
       "        1.00000000e-05, 1.00000000e-05, 1.00000000e-05, 1.00000000e-05,\n",
       "        1.00000000e-05, 1.00000000e-05, 1.00000000e-05, 1.00000000e-05,\n",
       "        1.00000000e-05, 1.00000000e-05, 1.00000000e-05, 1.00000000e-05,\n",
       "        1.00000000e-05, 1.00000000e-05, 1.00000000e-05, 1.00000000e-05,\n",
       "        1.00000000e-05, 1.00000000e-05, 1.00000000e-05, 1.00000000e-05,\n",
       "        1.34637215e-04, 3.54143958e-03, 1.94680248e-02, 5.34273810e-02,\n",
       "        1.00520052e-01, 1.51856603e-01, 2.00579852e-01, 2.42782442e-01,\n",
       "        2.77305035e-01, 3.04155996e-01, 3.24024347e-01, 3.37988674e-01,\n",
       "        3.47074983e-01, 3.52196541e-01, 3.54114825e-01, 3.53475470e-01,\n",
       "        3.50887648e-01, 3.46826977e-01, 3.41580285e-01, 3.35469523e-01,\n",
       "        3.28734467e-01, 3.21544527e-01, 3.14049245e-01, 3.06362735e-01,\n",
       "        2.98572431e-01, 2.90748606e-01, 2.82949231e-01, 2.75212624e-01,\n",
       "        2.67566983e-01, 2.60048493e-01, 2.52668788e-01, 2.45433768e-01,\n",
       "        2.38358305e-01, 2.31457660e-01, 2.24728155e-01, 2.18166498e-01,\n",
       "        2.11773891e-01, 2.05550465e-01, 1.99505345e-01, 1.93633050e-01,\n",
       "        1.87924900e-01, 1.82377437e-01, 1.76987762e-01, 1.71752719e-01,\n",
       "        1.66668955e-01, 1.61732978e-01, 1.56941190e-01, 1.52289933e-01,\n",
       "        1.47775508e-01, 1.43394206e-01, 1.39142025e-01, 1.35015261e-01,\n",
       "        1.31010396e-01, 1.27123930e-01, 1.23352443e-01, 1.19692597e-01,\n",
       "        1.16141138e-01, 1.12694897e-01, 1.09350789e-01, 1.06105813e-01,\n",
       "        1.02957051e-01, 9.99016670e-02, 9.69369041e-02, 9.40600851e-02,\n",
       "        9.12686098e-02, 8.85599528e-02, 8.59316624e-02, 8.33813582e-02,\n",
       "        8.09067296e-02, 7.85055337e-02, 7.61755936e-02, 7.39147963e-02,\n",
       "        7.17210915e-02, 6.95924891e-02, 6.75270579e-02, 6.55229238e-02,\n",
       "        6.35782683e-02, 6.16913265e-02, 5.98603860e-02, 5.80837850e-02,\n",
       "        5.63599111e-02, 5.46871994e-02, 5.30641318e-02, 5.14892350e-02,\n",
       "        4.99610794e-02, 4.84782778e-02, 4.70394843e-02, 4.56433928e-02,\n",
       "        4.42887359e-02, 4.29742840e-02, 4.16988438e-02, 4.04612575e-02,\n",
       "        3.92604016e-02, 3.80951861e-02, 3.69645532e-02, 3.58674765e-02,\n",
       "        3.48029600e-02, 3.37700375e-02, 3.27677713e-02, 3.17952514e-02,\n",
       "        3.08515952e-02, 2.99359458e-02, 2.90474721e-02, 2.81853676e-02,\n",
       "        2.73488496e-02, 2.65371588e-02, 2.57495582e-02, 2.49853330e-02,\n",
       "        2.42437893e-02, 2.35242540e-02, 2.28260740e-02, 2.21486153e-02,\n",
       "        2.14912630e-02, 2.08534204e-02, 2.02345084e-02, 1.96339652e-02,\n",
       "        1.90512457e-02, 1.84858207e-02, 1.79371771e-02, 1.74048168e-02,\n",
       "        1.68882564e-02, 1.63870272e-02, 1.59006740e-02, 1.54287554e-02,\n",
       "        1.49708429e-02, 1.45265209e-02, 1.40953859e-02, 1.36770467e-02,\n",
       "        1.32711235e-02, 1.28772477e-02, 1.24950618e-02, 1.21242189e-02,\n",
       "        1.17643823e-02, 1.14152253e-02, 1.10764310e-02, 1.07476919e-02,\n",
       "        1.04287094e-02, 1.01191941e-02, 9.81886491e-03, 9.52744925e-03,\n",
       "        9.24468257e-03, 8.97030817e-03, 8.70407696e-03, 8.44574728e-03,\n",
       "        8.19508460e-03, 7.95186138e-03, 7.71585682e-03, 7.48685668e-03,\n",
       "        7.26465307e-03, 7.04904428e-03, 6.83983457e-03, 6.63683403e-03,\n",
       "        6.43985838e-03, 6.24872880e-03, 6.06327178e-03, 5.88331897e-03,\n",
       "        5.70870701e-03, 5.53927739e-03, 5.37487630e-03, 5.21535449e-03,\n",
       "        5.06056715e-03, 4.91037377e-03, 4.76463801e-03, 4.62322756e-03,\n",
       "        4.48601405e-03, 4.35287293e-03, 4.22368332e-03, 4.09832795e-03,\n",
       "        3.97669303e-03, 3.85866812e-03, 3.74414610e-03, 3.63302299e-03,\n",
       "        3.52519792e-03, 3.42057301e-03, 3.31905328e-03, 3.22054657e-03,\n",
       "        3.12496346e-03, 3.03221717e-03, 2.94222351e-03, 2.85490079e-03,\n",
       "        2.77016974e-03, 2.68795343e-03, 2.60817723e-03, 2.53076873e-03,\n",
       "        2.45565764e-03, 2.38277578e-03, 2.31205700e-03, 2.24343710e-03,\n",
       "        2.17685377e-03, 2.11224658e-03, 2.04955688e-03, 1.98872775e-03,\n",
       "        1.92970399e-03, 1.87243199e-03, 1.81685979e-03, 1.76293692e-03,\n",
       "        1.71061443e-03, 1.65984483e-03, 1.61058203e-03, 1.56278131e-03,\n",
       "        1.51639928e-03, 1.47139382e-03, 1.42772409e-03, 1.38535044e-03,\n",
       "        1.34423441e-03, 1.30433866e-03, 1.26562698e-03, 1.22806424e-03,\n",
       "        1.19161633e-03, 1.15625016e-03, 1.12193362e-03, 1.08863558e-03,\n",
       "        1.05632579e-03, 1.02497493e-03, 9.94554533e-04, 9.65036991e-04,\n",
       "        9.36395505e-04, 9.08604074e-04, 8.81637469e-04, 8.55471210e-04,\n",
       "        8.30081544e-04, 8.05445422e-04, 7.81540479e-04, 7.58345015e-04,\n",
       "        7.35837972e-04, 7.13998920e-04, 6.92808033e-04, 6.72246073e-04,\n",
       "        6.52294375e-04, 6.32934826e-04, 6.14149853e-04, 5.95922402e-04,\n",
       "        5.78235926e-04, 5.61074370e-04, 5.44422154e-04, 5.28264163e-04,\n",
       "        5.12585727e-04, 4.97372613e-04, 4.82611012e-04, 4.68287523e-04,\n",
       "        4.54389143e-04, 4.40903256e-04, 4.27817618e-04, 4.15120351e-04,\n",
       "        4.02799928e-04, 3.90845165e-04])}"
      ]
     },
     "execution_count": 18,
     "metadata": {},
     "output_type": "execute_result"
    }
   ],
   "source": [
    "lh = pbp.likelihood(model = model,\n",
    "                      phi = phi,\n",
    "                   rt_max = 3.0)\n",
    "\n",
    "lh\n"
   ]
  },
  {
   "cell_type": "markdown",
   "id": "580484ea",
   "metadata": {},
   "source": [
    "The next function we introduce is loglikelihood. loglikelihood takes the input model and calculates the loglikelihood of input data. It has three required inputs: \n",
    "\n",
    "    model (class): Model class (in this case it will be the simpleDDM).\n",
    "    phi (dict): Contains model parameters. Keys are model parameters, values of keys set the respective\n",
    "                parameter values. In this case, keys are 't_nd', 'w', 'mu', and 'b'.\n",
    "    rt (dict): Dictionary containing rt data. Requires two keys, 'rt_upper' and 'rt_lower', whose values\n",
    "               are python lists/numpy arrays containing the rt data for the upper and lower thresholds,\n",
    "               respectively.\n",
    "    \n",
    "loglikeliood also has several optional inputs. In general, these should not need to be touched, but they are available in case your model has a difficult to calculate likelihood:\n",
    "\n",
    "    pointwise (True/False): If False, outputs the total loglikelihood. If True, outputs arrays containing\n",
    "                            the loglikelihood of each individual point. Defaults to False.\n",
    "    N_tnd (int): Number of integration points for non-decision time distribution. Defualts to 50.\n",
    "    N_mu (int): Number of integration points for drift rate distribution. Defaults to 10.\n",
    "    x_res (str,int): Spatial resolution of solver. Sets number of spatial mesh points in finite difference\n",
    "                     grid. Four pre-set options are available: 'default' (101 mesh points), 'high' (151 mesh\n",
    "                     points), 'very_high' (251 mesh points), and 'max' (501 mesh points). Can also be set to an\n",
    "                     integer value between 101 and 501. Default should be used for nearly all cases.\n",
    "    t_res (str): Temporal resolution of sovler. Four options are available: 'default', 'high', 'very_high',\n",
    "                  and 'max'. Default should be used for nearly all cases.\n",
    "                  \n",
    "Other optional inputs are available for this function, but they are only necessary in niche applications and are thus discussed in the \"precoded_functions_usage\" notebook.\n",
    "\n",
    "This function outputs:\n",
    "\n",
    "    if pointwise = False (default behavior):\n",
    "        \n",
    "        (float) corresponding to the summed loglikelihood of all input data points.\n",
    "        \n",
    "    if pointwise = True (default behavior):\n",
    "        \n",
    "        (dict) with two keys, 'llh_upper' and 'llh_lower'. Values contain arrays with the loglikelihood\n",
    "        of each indiviudal data point for the upper and lower thresholds, respectively.\n"
   ]
  },
  {
   "cell_type": "code",
   "execution_count": 19,
   "id": "c854be06",
   "metadata": {},
   "outputs": [
    {
     "data": {
      "text/plain": [
       "-75.58081903328994"
      ]
     },
     "execution_count": 19,
     "metadata": {},
     "output_type": "execute_result"
    }
   ],
   "source": [
    "llh = pbp.loglikelihood(model = model,\n",
    "                         phi = phi,\n",
    "                          rt = rt)\n",
    "\n",
    "llh\n"
   ]
  },
  {
   "cell_type": "code",
   "execution_count": 20,
   "id": "b61fbaac",
   "metadata": {},
   "outputs": [
    {
     "data": {
      "text/plain": [
       "{'llh_upper': array([-1.54662799e-01,  4.13177402e-01, -1.04302807e+00, -9.62467221e-01,\n",
       "        -2.89885360e-01, -3.14549558e-01, -2.58396956e+00,  4.29052597e-01,\n",
       "         2.14550135e-01, -4.89050431e+00,  3.08234342e-01,  2.95308785e-01,\n",
       "         4.91466711e-02, -1.31176226e+00, -1.23401685e-01,  9.97006577e-02,\n",
       "        -3.32268166e-01, -5.21248814e-01, -4.04625568e-01,  4.47741412e-01,\n",
       "        -3.53131184e+00, -1.18622176e-01, -4.39647138e-01, -1.81233725e+00,\n",
       "         4.50922306e-01,  2.85714186e-01, -3.57572891e-01,  2.54402727e-01,\n",
       "         4.56775748e-01, -4.66299586e-02,  1.54076090e-01,  4.02186317e-01,\n",
       "         4.54312351e-01,  4.19796925e-01, -5.62258593e-02, -4.18115444e-02,\n",
       "        -9.80250432e-01, -1.75323919e-01,  2.31414581e-01,  3.30061787e-01,\n",
       "        -2.67631922e+00,  3.12407490e-01,  2.33134590e-01,  4.54776651e-03,\n",
       "        -4.15131686e+00, -4.63616589e-02, -1.98092633e-01, -5.31694918e-01,\n",
       "        -1.28994243e+00, -3.21343827e-01,  4.23811819e-01, -2.80404743e-01,\n",
       "         4.14310671e-01,  1.12895349e-01,  4.58301232e-01, -3.22414273e-01,\n",
       "        -8.52281315e-01,  4.56972876e-01,  4.54473051e-01, -1.57265623e+00,\n",
       "        -3.88039336e+00,  4.49715674e-01,  4.42631833e-01,  4.46180026e-01,\n",
       "        -3.86627021e-01, -9.69686500e-01,  2.97402305e-01, -7.77207420e-01,\n",
       "         2.54160408e-01, -4.83180427e+00, -5.48561470e-01,  3.24559746e-01,\n",
       "         1.86674787e-01,  1.35634723e-02,  2.32397805e-01,  4.49876899e-01,\n",
       "         4.61673490e-01]),\n",
       " 'llh_lower': array([-2.07476579, -1.05237074, -2.42437401, -2.21135088, -2.04995408,\n",
       "        -1.09480716, -1.19090526, -1.29503412, -1.21812009, -2.2681268 ,\n",
       "        -1.06986545, -1.16934085, -1.73226974, -1.66252404, -3.74308121,\n",
       "        -4.11741898, -2.60235059, -1.36212716, -1.04373571, -1.13788018,\n",
       "        -2.54900627, -2.37767817, -2.13078352])}"
      ]
     },
     "execution_count": 20,
     "metadata": {},
     "output_type": "execute_result"
    }
   ],
   "source": [
    "llh_pointwise = pbp.loglikelihood(model = model,\n",
    "                                    phi = phi,\n",
    "                                     rt = rt, \n",
    "                              pointwise = True)\n",
    "\n",
    "llh_pointwise\n"
   ]
  },
  {
   "cell_type": "markdown",
   "id": "ccb7ddde",
   "metadata": {},
   "source": [
    "PyBEAM also contains a plotting utility, plot_rt. It generates a figure which can plot just the likelihood function or the likelihood function overlaying rt data. It has three required inputs: \n",
    "\n",
    "    model (class): Model class (in this case it will be the simpleDDM).\n",
    "    phi (dict): Contains model parameters. Keys are model parameters, values of keys set the respective\n",
    "                parameter values. In this case, keys are 't_nd', 'w', 'mu', and 'b'.\n",
    "    rt_max (float): Sets max time to solve likleihood function to.\n",
    "    \n",
    "If a histogram of rt data is desired on the figure, the following optional input can be used:\n",
    "\n",
    "    rt (dict): Dictionary containing rt data. Requires two keys, 'rt_upper' and 'rt_lower', whose values\n",
    "               are python lists/numpy arrays containing the rt data for the upper and lower thresholds,\n",
    "               respectively.\n",
    "               \n",
    "The histogram is set to have 25 bins by default, but can be set by the user with:\n",
    "\n",
    "    bins (int): Number of histogram bins for the rt data.\n",
    "               \n",
    "plot_rt also has several optional inputs. In general, these should not need to be touched, but they are available in case your model has a difficult to calculate likelihood:\n",
    "\n",
    "    N_tnd (int): Number of integration points for non-decision time distribution. Defualts to 50.\n",
    "    N_mu (int): Number of integration points for drift rate distribution. Defaults to 10.\n",
    "    x_res (str,int): Spatial resolution of solver. Sets number of spatial mesh points in finite difference\n",
    "                     grid. Four pre-set options are available: 'default' (101 mesh points), 'high' (151 mesh\n",
    "                     points), 'very_high' (251 mesh points), and 'max' (501 mesh points). Can also be set to an\n",
    "                     integer value between 101 and 501. Default should be used for nearly all cases.\n",
    "    t_res (str): Temporal resolution of sovler. Four options are available: 'default', 'high', 'very_high',\n",
    "                  and 'max'. Default should be used for nearly all cases.\n",
    "\n",
    "This functions outputs:\n",
    "\n",
    "    (fig) containing the model likelihood function and (optionally) a histogram containing the rt data\n",
    "    (negative times are the lower threshold crossing data points, positive times are the upper threshold\n",
    "    crossing data points).\n"
   ]
  },
  {
   "cell_type": "code",
   "execution_count": 21,
   "id": "0abf3c58",
   "metadata": {},
   "outputs": [
    {
     "data": {
      "image/png": "[encoded data removed]",
      "text/plain": [
       "<Figure size 640x400 with 1 Axes>"
      ]
     },
     "metadata": {},
     "output_type": "display_data"
    }
   ],
   "source": [
    "# plot data and model likelihood function\n",
    "fig = pbp.plot_rt(model = model, # dictionary containing model information \n",
    "                    phi = phi,   # parameters used for model rt distribution\n",
    "                 rt_max = 3.0,   # dictionary of simulated rt data\n",
    "                     rt = rt);   # dictionary of simulated rt data\n"
   ]
  },
  {
   "cell_type": "code",
   "execution_count": null,
   "id": "0aeb1f21",
   "metadata": {},
   "outputs": [],
   "source": []
  }
 ],
 "metadata": {
  "kernelspec": {
   "display_name": "pymc_env",
   "language": "python",
   "name": "pymc_env"
  },
  "language_info": {
   "codemirror_mode": {
    "name": "ipython",
    "version": 3
   },
   "file_extension": ".py",
   "mimetype": "text/x-python",
   "name": "python",
   "nbconvert_exporter": "python",
   "pygments_lexer": "ipython3",
   "version": "3.10.6"
  }
 },
 "nbformat": 4,
 "nbformat_minor": 5
}
