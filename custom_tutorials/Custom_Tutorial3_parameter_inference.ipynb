{
 "cells": [
  {
   "cell_type": "markdown",
   "id": "6a8a9cfa",
   "metadata": {},
   "source": [
    "## Custom Tutorial 3: Using your model\n",
    "\n",
    "In this tutorial, we demonstrate how to fit your custom model to data. The process is nearly identical to that of the default sub-module, so we will principally focus on what's different between the default and custom versions here. Refer to Default Tutorial 3 for use details.\n",
    "\n",
    "The specific model we will use for this example is the urgency gating model with time depenedent drift discussed in PyBEAM's publication. In this model, the drift rate flips from positive, to negative, then back to positive. The model files for this example are on PyBEAM's github under the folder ugm_drift_flipping.\n",
    "\n",
    "As before, import PyBEAM's custom sub-module.\n"
   ]
  },
  {
   "cell_type": "code",
   "execution_count": null,
   "id": "a880aeed",
   "metadata": {},
   "outputs": [],
   "source": [
    "# import PyBEAM's custom module\n",
    "import pybeam.custom as pbc\n",
    "\n",
    "# also import pyplot to modify figure axes\n",
    "import matplotlib.pyplot as plt\n"
   ]
  },
  {
   "cell_type": "markdown",
   "id": "f6211cd8",
   "metadata": {},
   "source": [
    "Next, we specify the directory where the model is located.\n"
   ]
  },
  {
   "cell_type": "code",
   "execution_count": null,
   "id": "d31de40d",
   "metadata": {},
   "outputs": [],
   "source": [
    "# the directory containing your model goes here\n",
    "model_dir = ''\n",
    "\n",
    "# windows computers\n",
    "# model_dir = r''\n"
   ]
  },
  {
   "cell_type": "markdown",
   "id": "75f8662b",
   "metadata": {},
   "source": [
    "As we did in Custom Tutorial 2, we run a quick check using functions_test to make sure our functions are doing what we expect them to.\n"
   ]
  },
  {
   "cell_type": "code",
   "execution_count": null,
   "id": "236b1619",
   "metadata": {},
   "outputs": [],
   "source": [
    "# dictionary containing model parameters\n",
    "phi = {'phi[0]' : 0.25, # t_nd: non-decision time\n",
    "       'phi[1]' : 0.5,  # w: relative start point\n",
    "       'phi[2]' : 1.0,  # mu: drift rate\n",
    "       'phi[3]' : 3.0,  # l: leakage rate\n",
    "       'phi[4]' : 2.0,  # k: urgency ratio\n",
    "       'phi[5]' : 1.0,  # sigma: model scale\n",
    "       'phi[6]' : 1.0,  # a: threshold location\n",
    "       'phi[7]' : 0.33, # t0: time for first drift rate flip\n",
    "       'phi[8]' : 0.66} # t1: time for second drift rate flip\n",
    "    \n",
    "pbc.functions_test(model_dir = model_dir, # string containing directory name where your model files are\n",
    "                         phi = phi,       # dictionary of model parameters\n",
    "                           x = 0.0,       # accumulator state\n",
    "                           t = 1.0)       # time\n"
   ]
  },
  {
   "cell_type": "markdown",
   "id": "32c75f07",
   "metadata": {},
   "source": [
    "We next simulate two data sets, corresponding to two model conditions. Specifically, we model a speed/accuracy trade-off by simulated data sets with differing threhsold locations. The first has a = 1.0, while the second has a = 1.5\n"
   ]
  },
  {
   "cell_type": "code",
   "execution_count": null,
   "id": "f5aaa292",
   "metadata": {},
   "outputs": [],
   "source": [
    "phi0 = {'phi[0]' : 0.25, # t_nd: non-decision time\n",
    "        'phi[1]' : 0.5,  # w: relative start point\n",
    "        'phi[2]' : 1.0,  # mu: drift rate\n",
    "        'phi[3]' : 3.0,  # l: leakage rate\n",
    "        'phi[4]' : 2.0,  # k: urgency ratio\n",
    "        'phi[5]' : 1.0,  # sigma: model scale\n",
    "        'phi[6]' : 1.0,  # a: threshold location\n",
    "        'phi[7]' : 0.33, # t0: time for first drift rate flip\n",
    "        'phi[8]' : 0.66} # t1: time for second drift rate flip\n",
    "\n",
    "rt0 = pbc.simulate_model(model_dir = model_dir,\n",
    "                            N_sims = 500,\n",
    "                               phi = phi0)\n",
    "\n",
    "pbc.plot_rt(model_dir = model_dir,\n",
    "                  phi = phi0,\n",
    "                   rt = rt0,\n",
    "                 bins = 50);\n",
    "\n",
    "plt.xlim(-2.5, 2.5)\n"
   ]
  },
  {
   "cell_type": "code",
   "execution_count": null,
   "id": "011b904f",
   "metadata": {},
   "outputs": [],
   "source": [
    "phi1 = {'phi[0]' : 0.25, # t_nd: non-decision time\n",
    "        'phi[1]' : 0.5,  # w: relative start point\n",
    "        'phi[2]' : 1.0,  # mu: drift rate\n",
    "        'phi[3]' : 3.0,  # l: leakage rate\n",
    "        'phi[4]' : 2.0,  # k: urgency ratio\n",
    "        'phi[5]' : 1.0,  # sigma: model scale\n",
    "        'phi[6]' : 1.5,  # a: threshold location\n",
    "        'phi[7]' : 0.33, # t0: time for first drift rate flip\n",
    "        'phi[8]' : 0.66} # t1: time for second drift rate flip\n",
    "\n",
    "rt1 = pbc.simulate_model(model_dir = model_dir,\n",
    "                            N_sims = 500,\n",
    "                               phi = phi1)\n",
    "\n",
    "pbc.plot_rt(model_dir = model_dir,\n",
    "                  phi = phi1,\n",
    "                   rt = rt1,\n",
    "                 bins = 50);\n",
    "\n",
    "plt.xlim(-2.5, 2.5)\n"
   ]
  },
  {
   "cell_type": "markdown",
   "id": "8d0d08a9",
   "metadata": {},
   "source": [
    "Now that we have data, we can infer what parameters best describe the data set. This follows the same process as the default sub-module, discussed in Default Tutorial 3. We first define a bank of priors in dictionary p. Then, we define our condition dictionaries. Note that, instead of parameter names for keys, we write the array location 'phi[0]', 'phi[1]', ... , 'phi[N_phi-1]'. This is as we did for the phi dictionary inputs to the simulate and plot model functions. These sub-dictionaries are placed into another condition dictionary in the same way as for the default model.\n",
    "\n",
    "Now that we have done this, we can call the inference function. This is identical the callout used in the default tutorial other than the model input. As with the other custom functions, we define the model directory instead of a model dictionary.\n",
    "\n",
    "The analysis tools plot_trace and summary are the same as for the default module.\n"
   ]
  },
  {
   "cell_type": "code",
   "execution_count": null,
   "id": "ce263e10",
   "metadata": {},
   "outputs": [],
   "source": [
    "p = {'pphi[0]' : 'Uniform(\"t_nd\", lower = 0.0, upper = 0.75)', # non-decision time prior\n",
    "     'pphi[1]' : 'Uniform(\"w\", lower = 0.3, upper = 0.7)',     # relative start point prior\n",
    "     'pphi[2]' : 'Uniform(\"mu\", lower = -5.0, upper = 5.0)',   # drift rate prior\n",
    "     'pphi[3]' : 'Uniform(\"l\", lower = 0.0, upper = 10.0)',    # leakage rate prior\n",
    "     'pphi[4]' : 'Uniform(\"k\", lower = 0.0, upper = 10.0)',    # urgency rate prior\n",
    "     'pphi[5]' : 1.0,                                          # scaling parameter\n",
    "     'pphi[6]0' : 'Uniform(\"a0\", lower = 0.25, upper = 3.0)',  # decision threshold prior 0\n",
    "     'pphi[6]1' : 'Uniform(\"a1\", lower = 0.25, upper = 3.0)',  # decision threshold prior 1\n",
    "     'pphi[7]' : 0.33,                                         # first drift flip time\n",
    "     'pphi[8]' : 0.66}                                         # second drift flip time\n",
    "\n",
    "c0 = {'rt' : rt0,\n",
    "  'phi[0]' : 'pphi[0]', \n",
    "  'phi[1]' : 'pphi[1]',  \n",
    "  'phi[2]' : 'pphi[2]', \n",
    "  'phi[3]' : 'pphi[3]',  \n",
    "  'phi[4]' : 'pphi[4]',  \n",
    "  'phi[5]' : 'pphi[5]',\n",
    "  'phi[6]' : 'pphi[6]0', \n",
    "  'phi[7]' : 'pphi[7]',  \n",
    "  'phi[8]' : 'pphi[8]'}  \n",
    "\n",
    "c1 = {'rt' : rt1,\n",
    "  'phi[0]' : 'pphi[0]', \n",
    "  'phi[1]' : 'pphi[1]',  \n",
    "  'phi[2]' : 'pphi[2]', \n",
    "  'phi[3]' : 'pphi[3]',  \n",
    "  'phi[4]' : 'pphi[4]',  \n",
    "  'phi[5]' : 'pphi[5]',\n",
    "  'phi[6]' : 'pphi[6]1', \n",
    "  'phi[7]' : 'pphi[7]',  \n",
    "  'phi[8]' : 'pphi[8]'}  \n",
    "\n",
    "cond = {0 : c0, 1 : c1}\n",
    "\n",
    "trace = pbc.inference(model_dir = model_dir, # specify model directory\n",
    "                         priors = p,         # dictionary of priors\n",
    "                     conditions = cond,      # conditions dictionary\n",
    "                        samples = 50000,     # MCMC samples\n",
    "                         chains = 3,         # MCMC chains \n",
    "                          cores = 3,         # CPU cores to run MCMC chains on\n",
    "                      file_name = 'custom')  # output file name\n"
   ]
  },
  {
   "cell_type": "code",
   "execution_count": null,
   "id": "6e55fe5b",
   "metadata": {},
   "outputs": [],
   "source": [
    "# summary of posteriors\n",
    "pbc.plot_trace(file_name = 'custom', burnin = 25000);\n"
   ]
  },
  {
   "cell_type": "code",
   "execution_count": null,
   "id": "c48afb3a",
   "metadata": {},
   "outputs": [],
   "source": [
    "# summary of posteriors\n",
    "pbc.summary(file_name = 'custom', burnin = 25000)\n"
   ]
  },
  {
   "cell_type": "code",
   "execution_count": null,
   "id": "c491a331",
   "metadata": {},
   "outputs": [],
   "source": []
  }
 ],
 "metadata": {
  "kernelspec": {
   "display_name": "Python 3",
   "language": "python",
   "name": "python3"
  },
  "language_info": {
   "codemirror_mode": {
    "name": "ipython",
    "version": 3
   },
   "file_extension": ".py",
   "mimetype": "text/x-python",
   "name": "python",
   "nbconvert_exporter": "python",
   "pygments_lexer": "ipython3",
   "version": "3.8.8"
  }
 },
 "nbformat": 4,
 "nbformat_minor": 5
}
