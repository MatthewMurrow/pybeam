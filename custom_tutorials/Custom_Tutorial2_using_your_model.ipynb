{
 "cells": [
  {
   "cell_type": "markdown",
   "id": "6a8a9cfa",
   "metadata": {},
   "source": [
    "## Custom Tutorial 2: Using your model\n",
    "\n",
    "In this tutorial, we show you how to use the model you have created. If you have not done so already, go through Custom Tutorial 1.\n",
    "\n",
    "Once you have done this, import PyBEAM's custom sub-module.\n"
   ]
  },
  {
   "cell_type": "code",
   "execution_count": null,
   "id": "a880aeed",
   "metadata": {},
   "outputs": [],
   "source": [
    "# import PyBEAM's custom module\n",
    "import pybeam.custom as pbc\n",
    "\n",
    "# also import pyplot to modify a figure\n",
    "import matplotlib.pyplot as plt\n"
   ]
  },
  {
   "cell_type": "markdown",
   "id": "f6211cd8",
   "metadata": {},
   "source": [
    "Next, we need to tell the program where your model is located. To do this, create a string containing the FULL directory name. This will be input into future functions.\n",
    "\n",
    "For this example, we use the custom model built in Tutorial 1. The files needed for this model are located on the PyBEAM Github in folder CutomTutorial1_model.\n",
    "\n",
    "Note: if you are using Windows only, you must place an r before your dictionary string. So, it will look like:\n",
    "    \n",
    "    model_dir = r'(directory)'\n"
   ]
  },
  {
   "cell_type": "code",
   "execution_count": null,
   "id": "d31de40d",
   "metadata": {},
   "outputs": [],
   "source": [
    "# the directory containing your model goes here\n",
    "model_dir = ''\n",
    "\n",
    "# windows computers\n",
    "# model_dir = r''\n"
   ]
  },
  {
   "cell_type": "markdown",
   "id": "75f8662b",
   "metadata": {},
   "source": [
    "Next, pybeam.custom provides a tool to test the functions you created in your model.pyx file. To use this, we must first specify a a dictionary of parameter inputs. This has the same form as the deafult sub-module, but instead of referring to the parameters by their names, we refer to them by their array index.\n",
    "\n",
    "Let's test the model we created in Custom Tutorial 1. First, specify the full directory name where the model is located at as above. Next, define the phi_test dictionary below. This dictionary contains the paramters used by your model. The keys of this dictionary specify which phi index the model.pyx file uses for that parameter, going from 'phi[0]', 'phi[1]', ... 'phi[N_phi-1]'. For example, in the Custom Tutorial 1 model file, parameter phi[0] was associated with the non-decision time. Thus, key 'phi[0]' is the parameter for phi[0], giving the non-decision time. Similarly, 'phi[1]' reference parameter phi[1] which is in the relative start point function.\n",
    "\n",
    "Once you have this dictionary, call the function functions_test. This accepts inputs of your model_dir location, parameter dictionary phi, accumulator state x, and time t. It outputs a list containing two columns: the model function names and the values output by those model functions. This provides a quick way to check that your functions are doing what you expect them to.\n",
    "\n",
    "For example, I have set phi[0] to 0.25. Since phi[0] is under the non_decision_time function, I would expect that function to output 0.25. Running functions_test verifies that this is the case and that no programming error has been made.\n",
    "\n",
    "It is STRONGLY recommended you run this function with any custom model you make.\n"
   ]
  },
  {
   "cell_type": "code",
   "execution_count": null,
   "id": "236b1619",
   "metadata": {},
   "outputs": [],
   "source": [
    "# dictionary containing model parameters\n",
    "phi = {'phi[0]' : 0.25, # phi[0]: non-decision time\n",
    "       'phi[1]' : 0.5,  # phi[1]: relative start point\n",
    "       'phi[2]' : 1.0,  # phi[2]: drift rate\n",
    "       'phi[3]' : 1.0,  # phi[3]: scale parameter\n",
    "       'phi[4]' : 1.0,  # phi[4]: threshold location\n",
    "       'phi[5]' : 1.0,  # phi[5]: threshold collapse parameter \n",
    "       'phi[6]' : 0.0, # phi[6]: contamination strength\n",
    "       'phi[7]' : 0.25, # phi[7]: uniform contamination lower bound\n",
    "       'phi[8]' : 2.0}  # phi[8]: uniform contamination upper bound\n",
    "    \n",
    "pbc.functions_test(model_dir = model_dir, # string containing directory where your model files are\n",
    "                         phi = phi,       # dictionary of model parameters\n",
    "                           x = 0.0,       # accumulator state\n",
    "                           t = 1.0)       # time\n"
   ]
  },
  {
   "cell_type": "markdown",
   "id": "1c52a148",
   "metadata": {},
   "source": [
    "The remaining functions we introudce in this file are the same as for the pybeam.default module. Two changes are present in them. First, instead of defining a model dictionary as you do in the default model, you instead define the model directory. Second, as of now, contamination models can be fit, but they can't be simulated using the simulate_model function. This functionality will be implemented in a future PyBEAM update. For this example file, we set contamination strength to zero to avoid the issue.\n"
   ]
  },
  {
   "cell_type": "code",
   "execution_count": null,
   "id": "90b486fc",
   "metadata": {
    "scrolled": true
   },
   "outputs": [],
   "source": [
    "# simulate data from the model\n",
    "rt = pbc.simulate_model(N_sims = 500,       # number of data points to simulate\n",
    "                     model_dir = model_dir, # string containing directory where your model files are\n",
    "                           phi = phi)       # model parameters, used to simulate data\n",
    "\n",
    "rt\n"
   ]
  },
  {
   "cell_type": "code",
   "execution_count": null,
   "id": "b7ede46d",
   "metadata": {},
   "outputs": [],
   "source": [
    "# calculte model likelihood function\n",
    "mrt = pbc.model_rt(model_dir = model_dir,\n",
    "                         phi = phi)\n",
    "\n",
    "mrt\n"
   ]
  },
  {
   "cell_type": "code",
   "execution_count": null,
   "id": "357593e5",
   "metadata": {},
   "outputs": [],
   "source": [
    "# calculate loglikelihood of rt data using model's likelihood function\n",
    "ll = pbc.model_loglike(model_dir = model_dir, # string containing directory where your model files are\n",
    "                             phi = phi,       # model parameters, used to simulate data\n",
    "                              rt = rt)        # dictionary of rt data\n",
    "\n",
    "ll\n"
   ]
  },
  {
   "cell_type": "code",
   "execution_count": null,
   "id": "62772d78",
   "metadata": {},
   "outputs": [],
   "source": [
    "# plot data and model likelihood function\n",
    "pbc.plot_rt(model_dir = model_dir, # string containing directory where your model files are\n",
    "                  phi = phi,       # model parameters, used to simulate data\n",
    "                   rt = rt);       # dictionary of rt data\n"
   ]
  },
  {
   "cell_type": "code",
   "execution_count": null,
   "id": "e4f67f6a",
   "metadata": {},
   "outputs": [],
   "source": []
  }
 ],
 "metadata": {
  "kernelspec": {
   "display_name": "Python 3",
   "language": "python",
   "name": "python3"
  },
  "language_info": {
   "codemirror_mode": {
    "name": "ipython",
    "version": 3
   },
   "file_extension": ".py",
   "mimetype": "text/x-python",
   "name": "python",
   "nbconvert_exporter": "python",
   "pygments_lexer": "ipython3",
   "version": "3.8.8"
  }
 },
 "nbformat": 4,
 "nbformat_minor": 5
}
